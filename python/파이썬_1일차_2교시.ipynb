{
 "cells": [
  {
   "cell_type": "code",
   "execution_count": null,
   "id": "128cf736",
   "metadata": {},
   "outputs": [],
   "source": []
  },
  {
   "cell_type": "code",
   "execution_count": null,
   "id": "8bc1d55a",
   "metadata": {},
   "outputs": [],
   "source": []
  },
  {
   "cell_type": "markdown",
   "id": "e5fd0119",
   "metadata": {},
   "source": [
    "# 1. 파이썬 내장 자료형  :  Compound \n",
    "\n",
    "- 여러 원소를 가진 자료형\n",
    "- 문자열, 튜플, 리스트, 딕셔너리 등이 있다. "
   ]
  },
  {
   "cell_type": "markdown",
   "id": "89a403a4",
   "metadata": {},
   "source": [
    "## 1-1 문자열\n",
    "\n",
    "- 문자열에는 bytes, str 2개가 있다.\n",
    "- bytes는 ascii 코드의 값으로 처리\n",
    "- str은 유니코드의 값으로 처리 -> 한글 등 다양한 언어 처리"
   ]
  },
  {
   "cell_type": "markdown",
   "id": "475b3b20",
   "metadata": {},
   "source": [
    "## 1-1-1 문자열 알아보기\n",
    "\n",
    "-  문자열과 바이트 문자열은 한번 생성하면 내부의 값을 변경할 수 없다.\n",
    "- 대신 다양한 메서드를 제공해서 새로운 문자열로 변경한 결과를 만들어준다."
   ]
  },
  {
   "cell_type": "markdown",
   "id": "8d8bd92f",
   "metadata": {},
   "source": [
    "### 문자열 리터럴 작성\n",
    "\n",
    "- 따옴표를 사용해서 문자열을 작성한다.\n",
    "- 바이트 문자열인 경우는 문자열 앞에 b를 붙인다 "
   ]
  },
  {
   "cell_type": "code",
   "execution_count": 1,
   "id": "d9d1ecac",
   "metadata": {},
   "outputs": [],
   "source": [
    "ss = \"문자열\"\n",
    "bb = b\"abc\"           # 바이트 문자열(bytes) "
   ]
  },
  {
   "cell_type": "code",
   "execution_count": 2,
   "id": "fc5be887",
   "metadata": {},
   "outputs": [
    {
     "data": {
      "text/plain": [
       "(3, 3)"
      ]
     },
     "execution_count": 2,
     "metadata": {},
     "output_type": "execute_result"
    }
   ],
   "source": [
    "len(ss), len(bb)"
   ]
  },
  {
   "cell_type": "code",
   "execution_count": null,
   "id": "b57283ce",
   "metadata": {},
   "outputs": [],
   "source": []
  },
  {
   "cell_type": "code",
   "execution_count": 3,
   "id": "e209c6f3",
   "metadata": {},
   "outputs": [
    {
     "data": {
      "text/plain": [
       "(str, bytes)"
      ]
     },
     "execution_count": 3,
     "metadata": {},
     "output_type": "execute_result"
    }
   ],
   "source": [
    "type(ss), type(bb)    # 자료형 확인 "
   ]
  },
  {
   "cell_type": "markdown",
   "id": "2520494c",
   "metadata": {},
   "source": [
    "### 문자열에서 바이트 문자열로 변환\n",
    "\n",
    "- encode 메서드는 문자열을 바이트문자여로 변환\n",
    "- decode 메서드는 바이트 문자열에서 문자열로 변환"
   ]
  },
  {
   "cell_type": "code",
   "execution_count": 4,
   "id": "21b7fbf3",
   "metadata": {},
   "outputs": [
    {
     "data": {
      "text/plain": [
       "b'\\xeb\\xac\\xb8\\xec\\x9e\\x90\\xec\\x97\\xb4'"
      ]
     },
     "execution_count": 4,
     "metadata": {},
     "output_type": "execute_result"
    },
    {
     "data": {
      "text/plain": [
       "b'\\xeb\\xac\\xb8\\xec\\x9e\\x90\\xec\\x97\\xb4'"
      ]
     },
     "execution_count": 4,
     "metadata": {},
     "output_type": "execute_result"
    }
   ],
   "source": [
    "ss.encode()"
   ]
  },
  {
   "cell_type": "code",
   "execution_count": null,
   "id": "428044e2",
   "metadata": {},
   "outputs": [
    {
     "data": {
      "text/plain": [
       "9"
      ]
     },
     "execution_count": 5,
     "metadata": {},
     "output_type": "execute_result"
    }
   ],
   "source": [
    "len(ss.encode())"
   ]
  },
  {
   "cell_type": "code",
   "execution_count": null,
   "id": "9754ecbe",
   "metadata": {},
   "outputs": [],
   "source": [
    "ss.encode().decode()"
   ]
  },
  {
   "cell_type": "code",
   "execution_count": 7,
   "id": "230d4ace",
   "metadata": {},
   "outputs": [],
   "source": [
    "len(ss.encode().decode())"
   ]
  },
  {
   "cell_type": "code",
   "execution_count": null,
   "id": "1f5f0cfc",
   "metadata": {},
   "outputs": [],
   "source": []
  },
  {
   "cell_type": "markdown",
   "id": "667d4db2",
   "metadata": {},
   "source": [
    "### 여러줄 문자열을 사용도 가능\n",
    "\n",
    "- 큰 따옴표나 작은 따옴표를 쌍으로 3개 사용한다. \n"
   ]
  },
  {
   "cell_type": "code",
   "execution_count": 1,
   "id": "75bae6f8",
   "metadata": {},
   "outputs": [],
   "source": [
    "sss = \"\"\"\n",
    "def add(x,y) :\n",
    "    return x+y\n",
    "\"\"\""
   ]
  },
  {
   "cell_type": "code",
   "execution_count": 2,
   "id": "d0d50b84",
   "metadata": {},
   "outputs": [
    {
     "name": "stdout",
     "output_type": "stream",
     "text": [
      "\n",
      "def add(x,y) :\n",
      "    return x+y\n",
      "\n"
     ]
    }
   ],
   "source": [
    "print(sss)"
   ]
  },
  {
   "cell_type": "markdown",
   "id": "c45414f4",
   "metadata": {},
   "source": [
    "### 파이썬은 인터프리터 특징\n",
    "- 즉시 문자열로 작성한 문장을 실행하면 문장이 로딩된다.\n",
    "- 그래서 로딩된 함수를 실행하면 값을 반환한다."
   ]
  },
  {
   "cell_type": "code",
   "execution_count": 7,
   "id": "86caf21b",
   "metadata": {},
   "outputs": [],
   "source": [
    "exec(sss)             ## 여러줄로 작성된 문자열이 파이썬 함수이므로\n",
    "                      ## 이 함수를 실행해서 로딩한다. "
   ]
  },
  {
   "cell_type": "code",
   "execution_count": 10,
   "id": "eef819b6",
   "metadata": {},
   "outputs": [
    {
     "data": {
      "text/plain": [
       "102"
      ]
     },
     "execution_count": 10,
     "metadata": {},
     "output_type": "execute_result"
    }
   ],
   "source": [
    "add(100,2)            ## 함수를 호출해서 확인한다. "
   ]
  },
  {
   "cell_type": "code",
   "execution_count": null,
   "id": "804861c1",
   "metadata": {},
   "outputs": [],
   "source": []
  },
  {
   "cell_type": "markdown",
   "id": "637057b0",
   "metadata": {},
   "source": [
    "## 1-1-2 문자열 내의 원소 및 부분 검색 처리 \n",
    "\n",
    "- 인덱스 검색 : 대괄호 기호를 사용하고 인덱스를 전달해서 하나의 값을 검색\n",
    "- 슬라이스는 시작과 종료점을 지정해서 특정 부분을 검색"
   ]
  },
  {
   "cell_type": "markdown",
   "id": "370347f7",
   "metadata": {},
   "source": [
    "## 여러 원소를 가진 문자열의 원소를 조회하는 방법\n",
    "\n",
    "- 인덱스 검색  : 하나의 원소 검색  대괄호에 정수 사용\n",
    "- 슬라이스 검색 : 여러 원소를 검색, 대괄호에 슬라이스 사용(인덱스: 인덱스)"
   ]
  },
  {
   "cell_type": "markdown",
   "id": "faf5dbd9",
   "metadata": {},
   "source": [
    "### 인덱스 검색 \n",
    "\n",
    "- 하나의 값만 검색\n",
    "- 인덱스 범위를 벗어나면 예외처리 되므로 항상 범위 내의 원소만 검색해야 함 "
   ]
  },
  {
   "cell_type": "code",
   "execution_count": 12,
   "id": "4bdc4cc8",
   "metadata": {},
   "outputs": [],
   "source": [
    "ss = \"가을이라 가을바람\""
   ]
  },
  {
   "cell_type": "code",
   "execution_count": 13,
   "id": "dfec78c8",
   "metadata": {},
   "outputs": [
    {
     "data": {
      "text/plain": [
       "'가'"
      ]
     },
     "execution_count": 13,
     "metadata": {},
     "output_type": "execute_result"
    }
   ],
   "source": [
    "ss[0]    # 하나의 요소를 선택하기 "
   ]
  },
  {
   "cell_type": "markdown",
   "id": "4a0047c5",
   "metadata": {},
   "source": [
    "### 슬리이스 검색\n",
    "- 슬라이스는 시작점과 종료점을 지정해서 부분검색"
   ]
  },
  {
   "cell_type": "code",
   "execution_count": 14,
   "id": "c5d0d0ba",
   "metadata": {},
   "outputs": [
    {
     "data": {
      "text/plain": [
       "'을'"
      ]
     },
     "execution_count": 14,
     "metadata": {},
     "output_type": "execute_result"
    }
   ],
   "source": [
    "ss[1:2]  # 여러개 요소를 선택하기 : 슬라이스 처리 "
   ]
  },
  {
   "cell_type": "code",
   "execution_count": 17,
   "id": "fb48ad2b",
   "metadata": {},
   "outputs": [
    {
     "name": "stdout",
     "output_type": "stream",
     "text": [
      "을\n"
     ]
    }
   ],
   "source": [
    "sl1 = slice(1,2)\n",
    "print(ss[sl1])"
   ]
  },
  {
   "cell_type": "markdown",
   "id": "0be6d9bc",
   "metadata": {},
   "source": [
    "### 슬리아스 검색 모든 것을 다 검색할 때는 콜론만 처리"
   ]
  },
  {
   "cell_type": "code",
   "execution_count": 18,
   "id": "07c69f0f",
   "metadata": {},
   "outputs": [
    {
     "data": {
      "text/plain": [
       "'가을이라 가을바람'"
      ]
     },
     "execution_count": 18,
     "metadata": {},
     "output_type": "execute_result"
    }
   ],
   "source": [
    "ss[:]"
   ]
  },
  {
   "cell_type": "code",
   "execution_count": null,
   "id": "ab1fa195",
   "metadata": {},
   "outputs": [],
   "source": []
  },
  {
   "cell_type": "markdown",
   "id": "8b344cdb",
   "metadata": {},
   "source": [
    "## 1-1-3  순환문 처리하기 \n",
    "\n",
    "- 다양한 요소를 가지는 복합 자료형은 순환문으로 내부의 요소를 처리할 수 있다.\n",
    "- for 순환문은 다양한 원소를 가진 경우만 실행이 된다. \n",
    "- while 순환문은 특정 조건에 따라 순환된다.\n",
    "- 순환문을 제어할 때는 break, continue를 작성해서 중단하거나 처리를 제외해야 한다."
   ]
  },
  {
   "cell_type": "markdown",
   "id": "1135c0b6",
   "metadata": {},
   "source": [
    "### 일반적인 숫자를 순환처리\n",
    "\n",
    "- range를 사용해서 순환문으로 처리\n",
    "- range(start, end, step) 으로 숫자의 범위를 만든다."
   ]
  },
  {
   "cell_type": "code",
   "execution_count": 11,
   "id": "bfe3cb48",
   "metadata": {},
   "outputs": [
    {
     "name": "stdout",
     "output_type": "stream",
     "text": [
      "0, 1, 2, 3, 4, 5, 6, 7, 8, 9, "
     ]
    }
   ],
   "source": [
    "for i in range(0, 10) :\n",
    "    print(i, end=\", \")"
   ]
  },
  {
   "cell_type": "code",
   "execution_count": 12,
   "id": "d9dcdcf0",
   "metadata": {},
   "outputs": [
    {
     "name": "stdout",
     "output_type": "stream",
     "text": [
      "0, 1, 2, 3, 4, 5, 6, 7, 8, 9, "
     ]
    }
   ],
   "source": [
    "for i in range(10) :\n",
    "    print(i, end=\", \")"
   ]
  },
  {
   "cell_type": "markdown",
   "id": "bc8a52e5",
   "metadata": {},
   "source": [
    "### 문자열을 순환해서 처리하기"
   ]
  },
  {
   "cell_type": "code",
   "execution_count": 13,
   "id": "5a5e02cb",
   "metadata": {},
   "outputs": [],
   "source": [
    "sss=\"가나다라마바사\""
   ]
  },
  {
   "cell_type": "code",
   "execution_count": 14,
   "id": "978a41cf",
   "metadata": {},
   "outputs": [
    {
     "name": "stdout",
     "output_type": "stream",
     "text": [
      "가\n",
      "나\n",
      "다\n",
      "라\n",
      "마\n",
      "바\n",
      "사\n"
     ]
    }
   ],
   "source": [
    "for i in sss:\n",
    "    print(i)"
   ]
  },
  {
   "cell_type": "markdown",
   "id": "d13b1b65",
   "metadata": {},
   "source": [
    "### 문자열 내부의 메서드 확인하기 1\n",
    "\n",
    "- 스페셜 메서드는 파이썬 내부적으로 처리하는 메서드를 만들어서 제공한다.\n",
    "- 보통 이 스페셜 메서드에는 연산자 등이 있다. "
   ]
  },
  {
   "cell_type": "code",
   "execution_count": 15,
   "id": "5298d932",
   "metadata": {},
   "outputs": [
    {
     "name": "stdout",
     "output_type": "stream",
     "text": [
      "__add__, __class__, __contains__, __delattr__, __dir__, __doc__, __eq__, __format__, __ge__, __getattribute__, __getitem__, __getnewargs__, __gt__, __hash__, __init__, __init_subclass__, __iter__, __le__, __len__, __lt__, __mod__, __mul__, __ne__, __new__, __reduce__, __reduce_ex__, __repr__, __rmod__, __rmul__, __setattr__, __sizeof__, __str__, __subclasshook__, "
     ]
    }
   ],
   "source": [
    "for i in dir(ss) :\n",
    "    if i.startswith(\"_\") :\n",
    "        print(i,end=\", \")"
   ]
  },
  {
   "cell_type": "markdown",
   "id": "0e9d1529",
   "metadata": {},
   "source": [
    "### 문자열 내부의 메서드 확인하기 2\n",
    "\n",
    "- 보통 사용하는 메서드"
   ]
  },
  {
   "cell_type": "code",
   "execution_count": 16,
   "id": "ac0cd850",
   "metadata": {},
   "outputs": [
    {
     "name": "stdout",
     "output_type": "stream",
     "text": [
      "capitalize, casefold, center, count, encode, endswith, expandtabs, find, format, format_map, index, isalnum, isalpha, isascii, isdecimal, isdigit, isidentifier, islower, isnumeric, isprintable, isspace, istitle, isupper, join, ljust, lower, lstrip, maketrans, partition, removeprefix, removesuffix, replace, rfind, rindex, rjust, rpartition, rsplit, rstrip, split, splitlines, startswith, strip, swapcase, title, translate, upper, zfill, "
     ]
    }
   ],
   "source": [
    "for i in dir(ss) :\n",
    "    if not i.startswith(\"_\") :\n",
    "        print(i,end=\", \")"
   ]
  },
  {
   "cell_type": "markdown",
   "id": "35ce1823",
   "metadata": {},
   "source": [
    "### 문자열 메서드 :  문자열 분리하기"
   ]
  },
  {
   "cell_type": "code",
   "execution_count": 17,
   "id": "f84c769a",
   "metadata": {},
   "outputs": [],
   "source": [
    "sst = \"문자열 분리하기\".split()"
   ]
  },
  {
   "cell_type": "code",
   "execution_count": 18,
   "id": "e850bc99",
   "metadata": {},
   "outputs": [
    {
     "data": {
      "text/plain": [
       "['문자열', '분리하기']"
      ]
     },
     "execution_count": 18,
     "metadata": {},
     "output_type": "execute_result"
    }
   ],
   "source": [
    "sst"
   ]
  },
  {
   "cell_type": "code",
   "execution_count": 19,
   "id": "c67c8fdd",
   "metadata": {},
   "outputs": [],
   "source": [
    "sst1 = \"쉼표,단위로,분리하기\".split(\",\")"
   ]
  },
  {
   "cell_type": "code",
   "execution_count": 20,
   "id": "90738431",
   "metadata": {},
   "outputs": [
    {
     "data": {
      "text/plain": [
       "['쉼표', '단위로', '분리하기']"
      ]
     },
     "execution_count": 20,
     "metadata": {},
     "output_type": "execute_result"
    }
   ],
   "source": [
    "sst1"
   ]
  },
  {
   "cell_type": "markdown",
   "id": "13721b13",
   "metadata": {},
   "source": [
    "## 1-2 튜플\n",
    "\n",
    "- 튜플은 여러 요소를 가지는 하나의 자료구조이다.\n",
    "- 튜플은 한번 생기면  요소를 수정하거나 삭제할 수 없다. "
   ]
  },
  {
   "cell_type": "markdown",
   "id": "025f662f",
   "metadata": {},
   "source": [
    "## 1-2-1 튜플을 정의해서 처리하기 "
   ]
  },
  {
   "cell_type": "markdown",
   "id": "c2ae70b3",
   "metadata": {},
   "source": [
    "### 튜플을 생성하기"
   ]
  },
  {
   "cell_type": "code",
   "execution_count": 21,
   "id": "444b00a8",
   "metadata": {},
   "outputs": [],
   "source": [
    "t0 = ()           # 아무 요소가 없는 튜플"
   ]
  },
  {
   "cell_type": "code",
   "execution_count": 1,
   "id": "d30dce95",
   "metadata": {},
   "outputs": [],
   "source": [
    "t1 = (100,)       # 하나의 요소를 가지는 튜플"
   ]
  },
  {
   "cell_type": "code",
   "execution_count": 2,
   "id": "15abca94",
   "metadata": {},
   "outputs": [
    {
     "name": "stdout",
     "output_type": "stream",
     "text": [
      "100\n",
      "200\n"
     ]
    }
   ],
   "source": [
    "t = (100,200)     # 두 개의 요소를 가지는 튜플\n",
    "for i in t :\n",
    "    print(i)"
   ]
  },
  {
   "cell_type": "markdown",
   "id": "d7cfb691",
   "metadata": {},
   "source": [
    "### 튜플 클래스로 변환해서 생성하기"
   ]
  },
  {
   "cell_type": "code",
   "execution_count": 3,
   "id": "b17a15a3",
   "metadata": {},
   "outputs": [],
   "source": [
    "lts = tuple([1,2,3,4])"
   ]
  },
  {
   "cell_type": "code",
   "execution_count": 4,
   "id": "503f65e9",
   "metadata": {},
   "outputs": [
    {
     "data": {
      "text/plain": [
       "(1, 2, 3, 4)"
      ]
     },
     "execution_count": 4,
     "metadata": {},
     "output_type": "execute_result"
    }
   ],
   "source": [
    "lts"
   ]
  },
  {
   "cell_type": "markdown",
   "id": "55de0097",
   "metadata": {},
   "source": [
    "### 튜플의 요소 개수 확인"
   ]
  },
  {
   "cell_type": "code",
   "execution_count": 5,
   "id": "d79bc5b3",
   "metadata": {},
   "outputs": [],
   "source": [
    "t3 = (100,200,300)"
   ]
  },
  {
   "cell_type": "code",
   "execution_count": 6,
   "id": "28872442",
   "metadata": {},
   "outputs": [
    {
     "data": {
      "text/plain": [
       "3"
      ]
     },
     "execution_count": 6,
     "metadata": {},
     "output_type": "execute_result"
    }
   ],
   "source": [
    "len(t3)"
   ]
  },
  {
   "cell_type": "markdown",
   "id": "48028dc2",
   "metadata": {},
   "source": [
    "## 1-2-2 인덱스 검색이나 슬라이스 검색을 통해 요소 조회"
   ]
  },
  {
   "cell_type": "markdown",
   "id": "b8027a23",
   "metadata": {},
   "source": [
    "### 인덱스 검색하기"
   ]
  },
  {
   "cell_type": "code",
   "execution_count": 7,
   "id": "1cea084c",
   "metadata": {},
   "outputs": [],
   "source": [
    "d = t3[0]"
   ]
  },
  {
   "cell_type": "code",
   "execution_count": 8,
   "id": "aa146424",
   "metadata": {},
   "outputs": [
    {
     "data": {
      "text/plain": [
       "100"
      ]
     },
     "execution_count": 8,
     "metadata": {},
     "output_type": "execute_result"
    }
   ],
   "source": [
    "d"
   ]
  },
  {
   "cell_type": "markdown",
   "id": "ccf50ade",
   "metadata": {},
   "source": [
    "### 슬라이스 검색하기"
   ]
  },
  {
   "cell_type": "code",
   "execution_count": 9,
   "id": "6c977cfc",
   "metadata": {},
   "outputs": [],
   "source": [
    "se = t3[1:2]"
   ]
  },
  {
   "cell_type": "code",
   "execution_count": 10,
   "id": "8276cdc1",
   "metadata": {},
   "outputs": [
    {
     "data": {
      "text/plain": [
       "(200,)"
      ]
     },
     "execution_count": 10,
     "metadata": {},
     "output_type": "execute_result"
    }
   ],
   "source": [
    "se"
   ]
  },
  {
   "cell_type": "markdown",
   "id": "056c168e",
   "metadata": {},
   "source": [
    "### 튜플 내부의 메서드 확인 \n",
    "\n",
    "- 튜플 내부에는 인덱스와 개수만 확인하는 메서드만 있다. \n",
    "- 튜플의 원소를 갱신하거나 수정할 수 있는 메서드가 없어서 한번 만들어지면 변경할 수 없다. "
   ]
  },
  {
   "cell_type": "code",
   "execution_count": 11,
   "id": "553d039b",
   "metadata": {},
   "outputs": [
    {
     "name": "stdout",
     "output_type": "stream",
     "text": [
      "count, index, "
     ]
    }
   ],
   "source": [
    "for i in dir(t3) :\n",
    "    if not i.startswith(\"_\") :\n",
    "        print(i,end=\", \")"
   ]
  },
  {
   "cell_type": "code",
   "execution_count": null,
   "id": "b64e4583",
   "metadata": {},
   "outputs": [],
   "source": []
  },
  {
   "cell_type": "markdown",
   "id": "5d975305",
   "metadata": {},
   "source": [
    "## 1-2-3 튜플을 구조분해해서 변수에 할당하기\n",
    "- 튜플의 요소를 바로 변수에 할당해서 분해 가능 "
   ]
  },
  {
   "cell_type": "code",
   "execution_count": 12,
   "id": "6ad2999d",
   "metadata": {},
   "outputs": [],
   "source": [
    "a,b,c = t3"
   ]
  },
  {
   "cell_type": "code",
   "execution_count": 13,
   "id": "5c70dba5",
   "metadata": {},
   "outputs": [
    {
     "name": "stdout",
     "output_type": "stream",
     "text": [
      "100 200 300\n"
     ]
    }
   ],
   "source": [
    "print(a,b,c)"
   ]
  },
  {
   "cell_type": "code",
   "execution_count": null,
   "id": "bd29ca75",
   "metadata": {},
   "outputs": [],
   "source": []
  },
  {
   "cell_type": "markdown",
   "id": "b3e09321",
   "metadata": {},
   "source": [
    "## 1-3 리스트\n",
    "\n",
    "- 리스트는 내부의 원소를 변경, 추가, 삭제가 가능한 복합 자료형이다.\n",
    "- 일반적인 배열 처럼 하나의 자료형으로 리스트를 만든다.\n",
    "- 다양한 자료형이 들어갈 경우는 최상위 자료형인 object로 구성된 것이다"
   ]
  },
  {
   "cell_type": "code",
   "execution_count": null,
   "id": "9792405a",
   "metadata": {},
   "outputs": [],
   "source": []
  },
  {
   "cell_type": "markdown",
   "id": "ae2f9e4d",
   "metadata": {},
   "source": [
    "## 1-3-1 리스트 생성"
   ]
  },
  {
   "cell_type": "markdown",
   "id": "b8e9393a",
   "metadata": {},
   "source": [
    "### 리터럴로 리스트 생성 "
   ]
  },
  {
   "cell_type": "code",
   "execution_count": 14,
   "id": "8dddaaa8",
   "metadata": {},
   "outputs": [],
   "source": [
    "l0 = []   # 요소가 아무것도 없는 리스트"
   ]
  },
  {
   "cell_type": "code",
   "execution_count": 15,
   "id": "98c4e0e3",
   "metadata": {},
   "outputs": [],
   "source": [
    "l1 = [1,]  # 하나의 요소를 가진 리스트"
   ]
  },
  {
   "cell_type": "markdown",
   "id": "9653f95c",
   "metadata": {},
   "source": [
    "### 클래스로 리스트 생성 \n",
    "\n",
    "- 보통 리스트 클래스로 생성할 경우는 튜플이나 문자열 등을 넣어서 생성\n",
    "- 다른 자료형을 리스트로 변환하는 것과 같다"
   ]
  },
  {
   "cell_type": "code",
   "execution_count": 16,
   "id": "a4d967ad",
   "metadata": {},
   "outputs": [],
   "source": [
    "cl = list((1,2,3,4))"
   ]
  },
  {
   "cell_type": "code",
   "execution_count": 17,
   "id": "78b67a0d",
   "metadata": {},
   "outputs": [
    {
     "data": {
      "text/plain": [
       "[1, 2, 3, 4]"
      ]
     },
     "execution_count": 17,
     "metadata": {},
     "output_type": "execute_result"
    }
   ],
   "source": [
    "cl"
   ]
  },
  {
   "cell_type": "code",
   "execution_count": 18,
   "id": "3afc2656",
   "metadata": {},
   "outputs": [],
   "source": [
    "cls = list(\"가나다라\")"
   ]
  },
  {
   "cell_type": "code",
   "execution_count": 19,
   "id": "53286a26",
   "metadata": {},
   "outputs": [
    {
     "data": {
      "text/plain": [
       "['가', '나', '다', '라']"
      ]
     },
     "execution_count": 19,
     "metadata": {},
     "output_type": "execute_result"
    }
   ],
   "source": [
    "cls"
   ]
  },
  {
   "cell_type": "code",
   "execution_count": null,
   "id": "0695d70e",
   "metadata": {},
   "outputs": [],
   "source": []
  },
  {
   "cell_type": "markdown",
   "id": "b8973fec",
   "metadata": {},
   "source": [
    "## 1-3-2 리스트 검색 및 부분 검색\n",
    "\n",
    "- 인덱스는 순방향 : 인덱스 값이 0부터 양수\n",
    "- 인덱스 역방향 : 인덱스값이 -1부터 시작"
   ]
  },
  {
   "cell_type": "code",
   "execution_count": 20,
   "id": "b2a64c37",
   "metadata": {},
   "outputs": [],
   "source": [
    "li_10 = list(range(10))"
   ]
  },
  {
   "cell_type": "code",
   "execution_count": 21,
   "id": "223d31af",
   "metadata": {},
   "outputs": [
    {
     "data": {
      "text/plain": [
       "[0, 1, 2, 3, 4, 5, 6, 7, 8, 9]"
      ]
     },
     "execution_count": 21,
     "metadata": {},
     "output_type": "execute_result"
    }
   ],
   "source": [
    "li_10"
   ]
  },
  {
   "cell_type": "markdown",
   "id": "24661986",
   "metadata": {},
   "source": [
    "### 인덱스로 하나의 값을 조회"
   ]
  },
  {
   "cell_type": "code",
   "execution_count": 22,
   "id": "da91c354",
   "metadata": {},
   "outputs": [
    {
     "data": {
      "text/plain": [
       "0"
      ]
     },
     "execution_count": 22,
     "metadata": {},
     "output_type": "execute_result"
    }
   ],
   "source": [
    "li_10[0]"
   ]
  },
  {
   "cell_type": "markdown",
   "id": "9fbe31a4",
   "metadata": {},
   "source": [
    "### 마지막 값을 조회하기\n",
    "\n",
    "- 인덱스를 음수로 사용해서 역방향으로 조회도 가능하다"
   ]
  },
  {
   "cell_type": "code",
   "execution_count": 23,
   "id": "81e049f1",
   "metadata": {},
   "outputs": [
    {
     "data": {
      "text/plain": [
       "9"
      ]
     },
     "execution_count": 23,
     "metadata": {},
     "output_type": "execute_result"
    }
   ],
   "source": [
    "li_10[len(li_10) -1]"
   ]
  },
  {
   "cell_type": "code",
   "execution_count": 24,
   "id": "714b9096",
   "metadata": {},
   "outputs": [
    {
     "data": {
      "text/plain": [
       "9"
      ]
     },
     "execution_count": 24,
     "metadata": {},
     "output_type": "execute_result"
    }
   ],
   "source": [
    "li_10[-1]"
   ]
  },
  {
   "cell_type": "markdown",
   "id": "93c935cd",
   "metadata": {},
   "source": [
    "### 슬리이스 검색"
   ]
  },
  {
   "cell_type": "code",
   "execution_count": 25,
   "id": "e2dc4b80",
   "metadata": {},
   "outputs": [
    {
     "data": {
      "text/plain": [
       "[2, 3, 4, 5, 6, 7, 8, 9]"
      ]
     },
     "execution_count": 25,
     "metadata": {},
     "output_type": "execute_result"
    }
   ],
   "source": [
    "li_10[2:]"
   ]
  },
  {
   "cell_type": "markdown",
   "id": "ba69335c",
   "metadata": {},
   "source": [
    "### 역방향으로 슬라이스 검색하기"
   ]
  },
  {
   "cell_type": "code",
   "execution_count": 26,
   "id": "04eb70f2",
   "metadata": {},
   "outputs": [
    {
     "data": {
      "text/plain": [
       "[9, 8, 7, 6, 5, 4, 3, 2, 1, 0]"
      ]
     },
     "execution_count": 26,
     "metadata": {},
     "output_type": "execute_result"
    }
   ],
   "source": [
    "li_10[-1:-11:-1]"
   ]
  },
  {
   "cell_type": "markdown",
   "id": "b92164ad",
   "metadata": {},
   "source": [
    "## 1-3-3  리스트 내의 메서드 확인하기"
   ]
  },
  {
   "cell_type": "code",
   "execution_count": 27,
   "id": "4905d8b2",
   "metadata": {},
   "outputs": [
    {
     "name": "stdout",
     "output_type": "stream",
     "text": [
      "append, clear, copy, count, extend, index, insert, pop, remove, reverse, sort, "
     ]
    }
   ],
   "source": [
    "for i in dir(l0) :\n",
    "    if not i.startswith(\"_\") :\n",
    "        print(i,end=\", \")"
   ]
  },
  {
   "cell_type": "markdown",
   "id": "93365f64",
   "metadata": {},
   "source": [
    "### 리스트의 맨뒤에 요소를 추가하기"
   ]
  },
  {
   "cell_type": "code",
   "execution_count": 28,
   "id": "26638b5d",
   "metadata": {},
   "outputs": [],
   "source": [
    "lll = []\n",
    "\n",
    "for i in range(10) :\n",
    "    lll.append(i)"
   ]
  },
  {
   "cell_type": "code",
   "execution_count": 29,
   "id": "e66ac5d6",
   "metadata": {},
   "outputs": [
    {
     "data": {
      "text/plain": [
       "10"
      ]
     },
     "execution_count": 29,
     "metadata": {},
     "output_type": "execute_result"
    }
   ],
   "source": [
    "len(lll)                     # 리스트의 원소 개수 확인하기"
   ]
  },
  {
   "cell_type": "markdown",
   "id": "c8ef1957",
   "metadata": {},
   "source": [
    "### 다른 리스트의 요소를 전부 추가하기"
   ]
  },
  {
   "cell_type": "code",
   "execution_count": 30,
   "id": "6c441540",
   "metadata": {},
   "outputs": [],
   "source": [
    "lll.extend(lll)"
   ]
  },
  {
   "cell_type": "code",
   "execution_count": 31,
   "id": "f4210f46",
   "metadata": {},
   "outputs": [
    {
     "data": {
      "text/plain": [
       "[0, 1, 2, 3, 4, 5, 6, 7, 8, 9, 0, 1, 2, 3, 4, 5, 6, 7, 8, 9]"
      ]
     },
     "execution_count": 31,
     "metadata": {},
     "output_type": "execute_result"
    }
   ],
   "source": [
    "lll"
   ]
  },
  {
   "cell_type": "code",
   "execution_count": null,
   "id": "607c7329",
   "metadata": {},
   "outputs": [],
   "source": []
  },
  {
   "cell_type": "markdown",
   "id": "fdb87e56",
   "metadata": {},
   "source": [
    "## 1-4 집합\n",
    "\n",
    "- 집합에는 변경가능한 집합 set 과 변경이 불가능한 집합 frozenset이 있다.\n",
    "- 변경 불가능한 집합이 필요한 이유는 한번 생성하면 변경되지 않아야 하는 곳에 사용이 가능하다. 주로 딕셔너리 키로 사용이 가능하다."
   ]
  },
  {
   "cell_type": "markdown",
   "id": "c91241a6",
   "metadata": {},
   "source": [
    "## 1-4-1 변경가능한 집합 "
   ]
  },
  {
   "cell_type": "code",
   "execution_count": 32,
   "id": "69cc03c7",
   "metadata": {},
   "outputs": [],
   "source": [
    "ss0 = set()"
   ]
  },
  {
   "cell_type": "code",
   "execution_count": 33,
   "id": "b0f5c63a",
   "metadata": {},
   "outputs": [],
   "source": [
    "ss1 = {1}"
   ]
  },
  {
   "cell_type": "code",
   "execution_count": 34,
   "id": "97ddf95d",
   "metadata": {},
   "outputs": [
    {
     "name": "stdout",
     "output_type": "stream",
     "text": [
      "add, clear, copy, difference, difference_update, discard, intersection, intersection_update, isdisjoint, issubset, issuperset, pop, remove, symmetric_difference, symmetric_difference_update, union, update, "
     ]
    }
   ],
   "source": [
    "for i in dir(ss0) :\n",
    "    if not i.startswith(\"_\") :\n",
    "        print(i,end=\", \")"
   ]
  },
  {
   "cell_type": "markdown",
   "id": "aaf71c7a",
   "metadata": {},
   "source": [
    "## 1-4-2 변경 불가능한 집합 "
   ]
  },
  {
   "cell_type": "code",
   "execution_count": 35,
   "id": "30992ad9",
   "metadata": {},
   "outputs": [],
   "source": [
    "fs0 = frozenset()"
   ]
  },
  {
   "cell_type": "code",
   "execution_count": 36,
   "id": "bd06cef2",
   "metadata": {},
   "outputs": [],
   "source": [
    "fs1 = frozenset([100])        # 튜플, 리스트 등으로 인자를 전달해야 함 "
   ]
  },
  {
   "cell_type": "code",
   "execution_count": 37,
   "id": "d6343e36",
   "metadata": {},
   "outputs": [
    {
     "name": "stdout",
     "output_type": "stream",
     "text": [
      "copy, difference, intersection, isdisjoint, issubset, issuperset, symmetric_difference, union, "
     ]
    }
   ],
   "source": [
    "for i in dir(fs0) :\n",
    "    if not i.startswith(\"_\") :\n",
    "        print(i,end=\", \")"
   ]
  },
  {
   "cell_type": "code",
   "execution_count": null,
   "id": "5b0d709f",
   "metadata": {},
   "outputs": [],
   "source": []
  },
  {
   "cell_type": "markdown",
   "id": "74f71c41",
   "metadata": {},
   "source": [
    "## 1-5 딕셔너리\n",
    "\n",
    "- 모든 요소는 키와 값으로 구성한다.\n",
    "- 키는 항상 변경이 불가능한 자료형으로 구성되어야 한다.\n",
    "- 보통 키는 숫자, 문자열, 튜플 등으로 구성한다."
   ]
  },
  {
   "cell_type": "code",
   "execution_count": null,
   "id": "f1749a2d",
   "metadata": {},
   "outputs": [],
   "source": []
  },
  {
   "cell_type": "markdown",
   "id": "6b237b4e",
   "metadata": {},
   "source": [
    "## 1-5-1 딕셔너리 생성 "
   ]
  },
  {
   "cell_type": "markdown",
   "id": "8787303d",
   "metadata": {},
   "source": [
    "### 리터럴로 딕셔너리 생성"
   ]
  },
  {
   "cell_type": "code",
   "execution_count": 38,
   "id": "f6d00934",
   "metadata": {},
   "outputs": [],
   "source": [
    "dd0 = {}"
   ]
  },
  {
   "cell_type": "code",
   "execution_count": 39,
   "id": "0016f1de",
   "metadata": {},
   "outputs": [],
   "source": [
    "dd1 = {\"a\":100}"
   ]
  },
  {
   "cell_type": "markdown",
   "id": "73ade007",
   "metadata": {},
   "source": [
    "### 키와 값을 쌍으로 만들어서 객체 생성\n",
    "\n",
    "- 두 개의 리스트를 zip을 사용해서 두 개의 요소를 가진 튜플로 묶은 리스트를 만든다."
   ]
  },
  {
   "cell_type": "code",
   "execution_count": 40,
   "id": "2b5b729d",
   "metadata": {},
   "outputs": [],
   "source": [
    "ll = [1,2,3,4,]\n",
    "ss = list(\"abcd\")"
   ]
  },
  {
   "cell_type": "code",
   "execution_count": 41,
   "id": "33b0c04d",
   "metadata": {},
   "outputs": [],
   "source": [
    "llss = [*zip(ll,ss)]"
   ]
  },
  {
   "cell_type": "code",
   "execution_count": 42,
   "id": "58529290",
   "metadata": {},
   "outputs": [],
   "source": [
    "dd = dict(llss)"
   ]
  },
  {
   "cell_type": "code",
   "execution_count": 43,
   "id": "eda104c2",
   "metadata": {},
   "outputs": [
    {
     "data": {
      "text/plain": [
       "{1: 'a', 2: 'b', 3: 'c', 4: 'd'}"
      ]
     },
     "execution_count": 43,
     "metadata": {},
     "output_type": "execute_result"
    }
   ],
   "source": [
    "dd"
   ]
  },
  {
   "cell_type": "code",
   "execution_count": null,
   "id": "a77b91b0",
   "metadata": {},
   "outputs": [],
   "source": []
  },
  {
   "cell_type": "markdown",
   "id": "736523bc",
   "metadata": {},
   "source": [
    "## 1-5-2 딕셔너리 메서드 사용"
   ]
  },
  {
   "cell_type": "code",
   "execution_count": 44,
   "id": "36be1a13",
   "metadata": {},
   "outputs": [
    {
     "name": "stdout",
     "output_type": "stream",
     "text": [
      "clear, copy, fromkeys, get, items, keys, pop, popitem, setdefault, update, values, "
     ]
    }
   ],
   "source": [
    "for i in dir(dd0) :\n",
    "    if not i.startswith(\"_\") :\n",
    "        print(i,end=\", \")"
   ]
  },
  {
   "cell_type": "code",
   "execution_count": null,
   "id": "abcbe188",
   "metadata": {},
   "outputs": [],
   "source": []
  },
  {
   "cell_type": "code",
   "execution_count": null,
   "id": "edd24dae",
   "metadata": {},
   "outputs": [],
   "source": []
  },
  {
   "cell_type": "markdown",
   "id": "e6d5605d",
   "metadata": {},
   "source": [
    "## 2. 컴프리헨션 \n",
    "\n",
    "- 리스트, 집합, 딕셔너리의 요소들을 나열하지 않고 축약으로 표기하는 법 \n",
    "- 많은 요소를 가질 경우 이 방식을 사용해서 표기해서 사용"
   ]
  },
  {
   "cell_type": "markdown",
   "id": "cf4dd2e5",
   "metadata": {},
   "source": [
    "## 2-1 리스트 컴프리헨션 "
   ]
  },
  {
   "cell_type": "markdown",
   "id": "97c7e64c",
   "metadata": {},
   "source": [
    "### 리스트에 요소를 추가하기"
   ]
  },
  {
   "cell_type": "code",
   "execution_count": 45,
   "id": "22008b10",
   "metadata": {},
   "outputs": [],
   "source": [
    "llll = [] \n",
    "for i in range(100) :\n",
    "    llll.append(i)"
   ]
  },
  {
   "cell_type": "code",
   "execution_count": 46,
   "id": "f847f259",
   "metadata": {},
   "outputs": [
    {
     "data": {
      "text/plain": [
       "100"
      ]
     },
     "execution_count": 46,
     "metadata": {},
     "output_type": "execute_result"
    }
   ],
   "source": [
    "len(llll)"
   ]
  },
  {
   "cell_type": "markdown",
   "id": "0a1a9057",
   "metadata": {},
   "source": [
    "### 컴프리헨션으로 바로 요소 추가하기"
   ]
  },
  {
   "cell_type": "code",
   "execution_count": 47,
   "id": "8f02ac78",
   "metadata": {},
   "outputs": [],
   "source": [
    "l100 = [i for i in range(100)]"
   ]
  },
  {
   "cell_type": "code",
   "execution_count": 48,
   "id": "8bbf111e",
   "metadata": {},
   "outputs": [
    {
     "data": {
      "text/plain": [
       "100"
      ]
     },
     "execution_count": 48,
     "metadata": {},
     "output_type": "execute_result"
    }
   ],
   "source": [
    "len(l100)"
   ]
  },
  {
   "cell_type": "code",
   "execution_count": 49,
   "id": "ae748553",
   "metadata": {},
   "outputs": [
    {
     "data": {
      "text/plain": [
       "[0, 1, 2, 3, 4, 5, 6, 7, 8, 9]"
      ]
     },
     "execution_count": 49,
     "metadata": {},
     "output_type": "execute_result"
    }
   ],
   "source": [
    "l100[:10]"
   ]
  },
  {
   "cell_type": "markdown",
   "id": "e32d49ee",
   "metadata": {},
   "source": [
    "### 특정값을 필터링해서 요소 추가하기"
   ]
  },
  {
   "cell_type": "code",
   "execution_count": 50,
   "id": "2c93155c",
   "metadata": {},
   "outputs": [],
   "source": [
    "llll = [] \n",
    "for i in range(100) :\n",
    "    if i % 2 == 0 :\n",
    "        llll.append(i)"
   ]
  },
  {
   "cell_type": "code",
   "execution_count": 51,
   "id": "3bee0d27",
   "metadata": {},
   "outputs": [
    {
     "data": {
      "text/plain": [
       "50"
      ]
     },
     "execution_count": 51,
     "metadata": {},
     "output_type": "execute_result"
    }
   ],
   "source": [
    "len(llll)"
   ]
  },
  {
   "cell_type": "markdown",
   "id": "6fdb5a2a",
   "metadata": {},
   "source": [
    "### 컴프리헨션에서 가드를 사용해서 필터링하기 "
   ]
  },
  {
   "cell_type": "code",
   "execution_count": 52,
   "id": "f806b9f0",
   "metadata": {},
   "outputs": [],
   "source": [
    "l50 = [i for i in range(100) if i % 2 == 0]"
   ]
  },
  {
   "cell_type": "code",
   "execution_count": 53,
   "id": "9fb8b3b6",
   "metadata": {},
   "outputs": [
    {
     "data": {
      "text/plain": [
       "50"
      ]
     },
     "execution_count": 53,
     "metadata": {},
     "output_type": "execute_result"
    }
   ],
   "source": [
    "len(l50)"
   ]
  },
  {
   "cell_type": "markdown",
   "id": "3c8291e9",
   "metadata": {},
   "source": [
    "## 2-2 집합 컴프리헨션 "
   ]
  },
  {
   "cell_type": "markdown",
   "id": "dcc52082",
   "metadata": {},
   "source": [
    "### 집합인 경우도 가능\n"
   ]
  },
  {
   "cell_type": "code",
   "execution_count": 54,
   "id": "d75c4ae9",
   "metadata": {},
   "outputs": [],
   "source": [
    "s100 = {i for i in range(100)}"
   ]
  },
  {
   "cell_type": "code",
   "execution_count": 55,
   "id": "a8e85f0c",
   "metadata": {},
   "outputs": [
    {
     "data": {
      "text/plain": [
       "100"
      ]
     },
     "execution_count": 55,
     "metadata": {},
     "output_type": "execute_result"
    }
   ],
   "source": [
    "len(s100)"
   ]
  },
  {
   "cell_type": "code",
   "execution_count": null,
   "id": "6fddd621",
   "metadata": {},
   "outputs": [],
   "source": []
  },
  {
   "cell_type": "markdown",
   "id": "8e35a413",
   "metadata": {},
   "source": [
    "## 2-3 딕셔너리 컴프리헨션 "
   ]
  },
  {
   "cell_type": "markdown",
   "id": "064ea447",
   "metadata": {},
   "source": [
    "### 키와 값을 처리하는 부분이 집합과 다르다.\n",
    "\n",
    "- enumerate 함수는 인덱스와 값을 반환한다.\n",
    "- 그래서 두개의 변수로 분리해서 처리"
   ]
  },
  {
   "cell_type": "code",
   "execution_count": 56,
   "id": "1dbe9f9f",
   "metadata": {},
   "outputs": [],
   "source": [
    "dd100 = {i:v for i,v in enumerate(range(100))}"
   ]
  },
  {
   "cell_type": "code",
   "execution_count": 57,
   "id": "aa863db6",
   "metadata": {},
   "outputs": [
    {
     "data": {
      "text/plain": [
       "100"
      ]
     },
     "execution_count": 57,
     "metadata": {},
     "output_type": "execute_result"
    }
   ],
   "source": [
    "len(dd100)"
   ]
  },
  {
   "cell_type": "markdown",
   "id": "e93123a4",
   "metadata": {},
   "source": [
    "### 키의 원소만 추출하기"
   ]
  },
  {
   "cell_type": "code",
   "execution_count": 58,
   "id": "1c13d700",
   "metadata": {},
   "outputs": [],
   "source": [
    "keys = dd100.keys()"
   ]
  },
  {
   "cell_type": "code",
   "execution_count": 59,
   "id": "a3037ac3",
   "metadata": {},
   "outputs": [
    {
     "data": {
      "text/plain": [
       "dict_keys([0, 1, 2, 3, 4, 5, 6, 7, 8, 9, 10, 11, 12, 13, 14, 15, 16, 17, 18, 19, 20, 21, 22, 23, 24, 25, 26, 27, 28, 29, 30, 31, 32, 33, 34, 35, 36, 37, 38, 39, 40, 41, 42, 43, 44, 45, 46, 47, 48, 49, 50, 51, 52, 53, 54, 55, 56, 57, 58, 59, 60, 61, 62, 63, 64, 65, 66, 67, 68, 69, 70, 71, 72, 73, 74, 75, 76, 77, 78, 79, 80, 81, 82, 83, 84, 85, 86, 87, 88, 89, 90, 91, 92, 93, 94, 95, 96, 97, 98, 99])"
      ]
     },
     "execution_count": 59,
     "metadata": {},
     "output_type": "execute_result"
    }
   ],
   "source": [
    "keys"
   ]
  },
  {
   "cell_type": "markdown",
   "id": "ba4a58f4",
   "metadata": {},
   "source": [
    "### 특정 값만 가드를 사용해서 필터링하기"
   ]
  },
  {
   "cell_type": "code",
   "execution_count": 60,
   "id": "6603fd2c",
   "metadata": {},
   "outputs": [
    {
     "data": {
      "text/plain": [
       "{0: 0, 1: 1, 2: 2, 3: 3, 4: 4, 5: 5, 6: 6, 7: 7, 8: 8, 9: 9}"
      ]
     },
     "execution_count": 60,
     "metadata": {},
     "output_type": "execute_result"
    }
   ],
   "source": [
    "{k: dd100[k] for k in keys if k < 10 }"
   ]
  },
  {
   "cell_type": "markdown",
   "id": "5b0aa54c",
   "metadata": {},
   "source": [
    "### 딕셔너리의 값만 가져오기"
   ]
  },
  {
   "cell_type": "code",
   "execution_count": 61,
   "id": "f75c80eb",
   "metadata": {},
   "outputs": [
    {
     "data": {
      "text/plain": [
       "dict_values([0, 1, 2, 3, 4, 5, 6, 7, 8, 9, 10, 11, 12, 13, 14, 15, 16, 17, 18, 19, 20, 21, 22, 23, 24, 25, 26, 27, 28, 29, 30, 31, 32, 33, 34, 35, 36, 37, 38, 39, 40, 41, 42, 43, 44, 45, 46, 47, 48, 49, 50, 51, 52, 53, 54, 55, 56, 57, 58, 59, 60, 61, 62, 63, 64, 65, 66, 67, 68, 69, 70, 71, 72, 73, 74, 75, 76, 77, 78, 79, 80, 81, 82, 83, 84, 85, 86, 87, 88, 89, 90, 91, 92, 93, 94, 95, 96, 97, 98, 99])"
      ]
     },
     "execution_count": 61,
     "metadata": {},
     "output_type": "execute_result"
    }
   ],
   "source": [
    "dd100.values()"
   ]
  },
  {
   "cell_type": "markdown",
   "id": "777f7655",
   "metadata": {},
   "source": [
    "### 딕셔너리의 키와 값의 순서쌍을 출력하기 "
   ]
  },
  {
   "cell_type": "code",
   "execution_count": 62,
   "id": "cd459ed9",
   "metadata": {},
   "outputs": [
    {
     "data": {
      "text/plain": [
       "dict_items([(0, 0), (1, 1), (2, 2), (3, 3), (4, 4), (5, 5), (6, 6), (7, 7), (8, 8), (9, 9), (10, 10), (11, 11), (12, 12), (13, 13), (14, 14), (15, 15), (16, 16), (17, 17), (18, 18), (19, 19), (20, 20), (21, 21), (22, 22), (23, 23), (24, 24), (25, 25), (26, 26), (27, 27), (28, 28), (29, 29), (30, 30), (31, 31), (32, 32), (33, 33), (34, 34), (35, 35), (36, 36), (37, 37), (38, 38), (39, 39), (40, 40), (41, 41), (42, 42), (43, 43), (44, 44), (45, 45), (46, 46), (47, 47), (48, 48), (49, 49), (50, 50), (51, 51), (52, 52), (53, 53), (54, 54), (55, 55), (56, 56), (57, 57), (58, 58), (59, 59), (60, 60), (61, 61), (62, 62), (63, 63), (64, 64), (65, 65), (66, 66), (67, 67), (68, 68), (69, 69), (70, 70), (71, 71), (72, 72), (73, 73), (74, 74), (75, 75), (76, 76), (77, 77), (78, 78), (79, 79), (80, 80), (81, 81), (82, 82), (83, 83), (84, 84), (85, 85), (86, 86), (87, 87), (88, 88), (89, 89), (90, 90), (91, 91), (92, 92), (93, 93), (94, 94), (95, 95), (96, 96), (97, 97), (98, 98), (99, 99)])"
      ]
     },
     "execution_count": 62,
     "metadata": {},
     "output_type": "execute_result"
    }
   ],
   "source": [
    "dd100.items()"
   ]
  },
  {
   "cell_type": "code",
   "execution_count": null,
   "id": "47ec8edd",
   "metadata": {},
   "outputs": [],
   "source": []
  }
 ],
 "metadata": {
  "kernelspec": {
   "display_name": "Python 3 (ipykernel)",
   "language": "python",
   "name": "python3"
  },
  "language_info": {
   "codemirror_mode": {
    "name": "ipython",
    "version": 3
   },
   "file_extension": ".py",
   "mimetype": "text/x-python",
   "name": "python",
   "nbconvert_exporter": "python",
   "pygments_lexer": "ipython3",
   "version": "3.9.16"
  }
 },
 "nbformat": 4,
 "nbformat_minor": 5
}
