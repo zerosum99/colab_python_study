{
 "cells": [
  {
   "cell_type": "markdown",
   "id": "4976dc02",
   "metadata": {},
   "source": [
    "# 3. 파이썬 함수\n",
    "\n",
    "- 파이썬에는 이름있는 함수와 이름없는 함수 2개를 제공한다.\n",
    "\n",
    "### 이름있는 함수\n",
    "- 이름있는 함수는 함수를 정의하고 호출해서 처리한다. 반드시 함수 정의가 선행되어야 한다.\n",
    "\n",
    "### 이름없는 함수\n",
    "- 익명함수 또는 람다표현식, 람다함수 등으로 부른다. \n",
    "- 이름없는 함수는 함수를 작성하고 바로 호출해서 사용되므로 함수 정의가 선행되지 않는다. \n",
    "- 대신 함수를 다시 사용하려면 변수에 할당한 후에 사용해야 한다"
   ]
  },
  {
   "cell_type": "markdown",
   "id": "2826b968",
   "metadata": {},
   "source": [
    "## 3-1 함수 정의 및 호출 \n",
    "\n",
    "- 함수 선언은 함수를 시그니처 즉 함수명과 매개변수/반환자료형까지만 작성\n",
    "- 함수 정의는 함수 선언과 함수 본문을 다 작성하는 것이다.\n",
    "- 파이썬은 함수선언을 사용하지 않고 함수 정의만 사용한다."
   ]
  },
  {
   "cell_type": "markdown",
   "id": "c848347e",
   "metadata": {},
   "source": [
    "## 함수를 사용하려면 함수 정의하고 그 다음에 함수 호출을 해야함"
   ]
  },
  {
   "cell_type": "markdown",
   "id": "73dac91c",
   "metadata": {},
   "source": [
    "### 함수 정의 \n",
    "\n",
    "- 예약어 def 사용\n",
    "- 함수명과 괄호에 매개변수 정의 \n",
    "- 매개변수는 함수의 입력 데이터\n",
    "- 콜론을 사용한 다음에 실제 코드가 입력된다.\n",
    "- 반환값은 return 다음에 넣는다. "
   ]
  },
  {
   "cell_type": "code",
   "execution_count": 1,
   "id": "dcad826d",
   "metadata": {},
   "outputs": [],
   "source": [
    "def 함수(매개변수) :\n",
    "    return 매개변수"
   ]
  },
  {
   "cell_type": "markdown",
   "id": "68dd9e6f",
   "metadata": {},
   "source": [
    "### 함수호출\n",
    "\n",
    "- 함수명과 괄호에 인자를 넣는다. \n",
    "- 인자는 매개변수와 개수가 동일해야 한다. "
   ]
  },
  {
   "cell_type": "code",
   "execution_count": 2,
   "id": "e9995226",
   "metadata": {},
   "outputs": [
    {
     "data": {
      "text/plain": [
       "'인자'"
      ]
     },
     "execution_count": 2,
     "metadata": {},
     "output_type": "execute_result"
    }
   ],
   "source": [
    "함수(\"인자\")"
   ]
  },
  {
   "cell_type": "code",
   "execution_count": 3,
   "id": "5bf0dd10",
   "metadata": {},
   "outputs": [
    {
     "data": {
      "text/plain": [
       "100"
      ]
     },
     "execution_count": 3,
     "metadata": {},
     "output_type": "execute_result"
    }
   ],
   "source": [
    "함수(100)"
   ]
  },
  {
   "cell_type": "markdown",
   "id": "78cd11a2",
   "metadata": {},
   "source": [
    "## 3-2 함수 매개변수와 인자 \n",
    "\n",
    "- 함수는 블랙박스이므로 함수와 인터페이스를 하려면 함수 매개변수에 맞춰서 인자를 전달해야 함\n",
    "- 그래서 함수를 작성할 때는 외부에서 호출할 함수 매개변수를 잘 작성해야 함\n",
    "\n",
    "### 매개변수 지정 방식\n",
    "\n",
    "- 함수 정의할 때 매개변수에 초기값 지정 => 인자가 안 들어오면 초기값이 처리됨\n",
    "- 가변 인자를 받는 가변 매개변수 지정  => 매개변수는 하나지만 인자가 여러 개인 경우 \n",
    "- 가변 키워드 인자를 바든 가변 키워드 매개변수 지정 => 매개변수는 하나지만 키워드 인자가 여러 개인 경우 \n",
    "- 가변인자와 가변 키워드 인자를 다 받으면 어떤 인자도 다 처리되는 방식도 제공"
   ]
  },
  {
   "cell_type": "markdown",
   "id": "3c30dfa9",
   "metadata": {},
   "source": [
    "## 3-2-1 매개변수 지정방식 알아보기"
   ]
  },
  {
   "cell_type": "markdown",
   "id": "2fa3eb2f",
   "metadata": {},
   "source": [
    "### 매개변수에 초기값을 지정하기\n",
    "\n",
    "- 초기값은 보통 오른쪽 매개변수부터 지정하는 것이 좋다. \n",
    "- 초기값이 없는 경우는 항상 인자를 전달해야 함 "
   ]
  },
  {
   "cell_type": "code",
   "execution_count": 4,
   "id": "a7d79fe5",
   "metadata": {},
   "outputs": [],
   "source": [
    "def add(x=100,y=200) :\n",
    "    return x+y"
   ]
  },
  {
   "cell_type": "markdown",
   "id": "3b8ea876",
   "metadata": {},
   "source": [
    "### 함수를 호출할 때 모든 인자를 전달하지 않아도 실행됨"
   ]
  },
  {
   "cell_type": "code",
   "execution_count": 5,
   "id": "646a6de1",
   "metadata": {},
   "outputs": [
    {
     "data": {
      "text/plain": [
       "300"
      ]
     },
     "execution_count": 5,
     "metadata": {},
     "output_type": "execute_result"
    }
   ],
   "source": [
    "add()"
   ]
  },
  {
   "cell_type": "code",
   "execution_count": 6,
   "id": "ff738c44",
   "metadata": {},
   "outputs": [
    {
     "data": {
      "text/plain": [
       "500"
      ]
     },
     "execution_count": 6,
     "metadata": {},
     "output_type": "execute_result"
    }
   ],
   "source": [
    "add(300)"
   ]
  },
  {
   "cell_type": "code",
   "execution_count": 7,
   "id": "4ce4a2b7",
   "metadata": {},
   "outputs": [
    {
     "data": {
      "text/plain": [
       "1100"
      ]
     },
     "execution_count": 7,
     "metadata": {},
     "output_type": "execute_result"
    }
   ],
   "source": [
    "add(500,600)"
   ]
  },
  {
   "cell_type": "code",
   "execution_count": null,
   "id": "cc257c5d",
   "metadata": {},
   "outputs": [],
   "source": []
  },
  {
   "cell_type": "markdown",
   "id": "2c880216",
   "metadata": {},
   "source": [
    "### 하나의 매개변수에 여러 인자 처리하기 \n",
    "\n",
    "- 가변인자를 받으면 내부적으로는 튜플로 관리함\n",
    "- 가변인자가 저장된 변수의 이름이 가변매개변수가 됨 "
   ]
  },
  {
   "cell_type": "code",
   "execution_count": 8,
   "id": "14bfff7f",
   "metadata": {},
   "outputs": [],
   "source": [
    "def totalSum(*args) :\n",
    "    print(args)\n",
    "    return sum(args)"
   ]
  },
  {
   "cell_type": "code",
   "execution_count": 9,
   "id": "b0979aa8",
   "metadata": {},
   "outputs": [
    {
     "name": "stdout",
     "output_type": "stream",
     "text": [
      "(1, 2, 3, 4, 5)\n"
     ]
    },
    {
     "data": {
      "text/plain": [
       "15"
      ]
     },
     "execution_count": 9,
     "metadata": {},
     "output_type": "execute_result"
    }
   ],
   "source": [
    "totalSum(1,2,3,4,5)"
   ]
  },
  {
   "cell_type": "code",
   "execution_count": null,
   "id": "70d933cc",
   "metadata": {},
   "outputs": [],
   "source": []
  },
  {
   "cell_type": "markdown",
   "id": "5d070acf",
   "metadata": {},
   "source": [
    "### 하나의 매개변수에 여러 키워드 인자 처리하기\n",
    "\n",
    "- 가변 키워드 인자는 내부적으로 딕셔너리로 관리\n",
    "- 이 딕셔너리를 관리하는 변수이름이 가변 키워드 매개변수 이름이 됨 "
   ]
  },
  {
   "cell_type": "code",
   "execution_count": 10,
   "id": "34c7303e",
   "metadata": {},
   "outputs": [],
   "source": [
    "def totalSum1(**kwargs) :\n",
    "    print(kwargs)\n",
    "    print(kwargs.values())\n",
    "    return sum(kwargs.values())"
   ]
  },
  {
   "cell_type": "code",
   "execution_count": 11,
   "id": "c64b89a4",
   "metadata": {},
   "outputs": [
    {
     "name": "stdout",
     "output_type": "stream",
     "text": [
      "{'a': 1, 'b': 2, 'c': 3, 'd': 4, 'e': 5}\n",
      "dict_values([1, 2, 3, 4, 5])\n"
     ]
    },
    {
     "data": {
      "text/plain": [
       "15"
      ]
     },
     "execution_count": 11,
     "metadata": {},
     "output_type": "execute_result"
    }
   ],
   "source": [
    "totalSum1(a=1,b=2,c=3,d=4,e=5)"
   ]
  },
  {
   "cell_type": "code",
   "execution_count": null,
   "id": "2fb43498",
   "metadata": {},
   "outputs": [],
   "source": []
  },
  {
   "cell_type": "markdown",
   "id": "593a244d",
   "metadata": {},
   "source": [
    "### 두 개의 매개변수를 정의하면 모든 인자를 다 처리할 수 있다. \n",
    "- 모든 매개변수를 다 처리하도록 지정\n",
    "- 가변인자와 가변 키워드인자를 함수 매개변수에 지정하면 어떻한 것도 다 처리함"
   ]
  },
  {
   "cell_type": "code",
   "execution_count": null,
   "id": "9f92fcd5",
   "metadata": {},
   "outputs": [],
   "source": []
  },
  {
   "cell_type": "code",
   "execution_count": 12,
   "id": "97c1aded",
   "metadata": {},
   "outputs": [],
   "source": [
    "def totalSum2(*args, **kwargs) :\n",
    "    print(args)\n",
    "    print(kwargs)\n",
    "    print(kwargs.values())\n",
    "    return sum(args) + sum(kwargs.values())"
   ]
  },
  {
   "cell_type": "code",
   "execution_count": 13,
   "id": "eff5f0ad",
   "metadata": {},
   "outputs": [
    {
     "name": "stdout",
     "output_type": "stream",
     "text": [
      "(1, 2, 3, 4, 5)\n",
      "{'a': 1, 'b': 2, 'c': 3, 'd': 4, 'e': 5}\n",
      "dict_values([1, 2, 3, 4, 5])\n"
     ]
    },
    {
     "data": {
      "text/plain": [
       "30"
      ]
     },
     "execution_count": 13,
     "metadata": {},
     "output_type": "execute_result"
    }
   ],
   "source": [
    "totalSum2(1,2,3,4,5,a=1,b=2,c=3,d=4,e=5)"
   ]
  },
  {
   "cell_type": "code",
   "execution_count": null,
   "id": "7bc8df1c",
   "metadata": {},
   "outputs": [],
   "source": []
  },
  {
   "cell_type": "markdown",
   "id": "652ad508",
   "metadata": {},
   "source": [
    "## 3-2-2 매개변수 지정 순서 \n",
    "\n",
    "- 매개변수는 위치매개변수, 가변 위치매개변수, 키워드 매개변수, 가변 키워드 매개변수 순으로 지정한다.\n"
   ]
  },
  {
   "cell_type": "code",
   "execution_count": 14,
   "id": "b5f1ef8b",
   "metadata": {},
   "outputs": [],
   "source": [
    "def func_para(a,b,c,*args,d,e,f,**kwargs) :\n",
    "    print(locals())"
   ]
  },
  {
   "cell_type": "code",
   "execution_count": 15,
   "id": "2a70a996",
   "metadata": {},
   "outputs": [
    {
     "name": "stdout",
     "output_type": "stream",
     "text": [
      "{'a': 1, 'b': 2, 'c': 3, 'd': 10, 'e': 11, 'f': 12, 'args': (4,), 'kwargs': {'g': 10}}\n"
     ]
    }
   ],
   "source": [
    "func_para(1,2,3,4,d=10,e=11,f=12,g=10)"
   ]
  },
  {
   "cell_type": "code",
   "execution_count": null,
   "id": "766e038f",
   "metadata": {},
   "outputs": [],
   "source": []
  },
  {
   "cell_type": "markdown",
   "id": "1d437ddd",
   "metadata": {},
   "source": [
    "## 3-3  함수를 함수 내에서 사용하기"
   ]
  },
  {
   "cell_type": "code",
   "execution_count": null,
   "id": "79585d3d",
   "metadata": {},
   "outputs": [],
   "source": []
  },
  {
   "cell_type": "markdown",
   "id": "ac354b32",
   "metadata": {},
   "source": [
    "## 3-3-1익명함수 \n",
    "\n",
    "- 람다표현식 처리 \n",
    "- 이름이 없어서 한번 사용하는 임시 처리용으로 사용\n",
    "- 변수에 할당해서 사용하려면 일반함수를 작성해서 사용"
   ]
  },
  {
   "cell_type": "code",
   "execution_count": 16,
   "id": "c69fdc74",
   "metadata": {},
   "outputs": [
    {
     "data": {
      "text/plain": [
       "300"
      ]
     },
     "execution_count": 16,
     "metadata": {},
     "output_type": "execute_result"
    }
   ],
   "source": [
    "(lambda x,y : x+y)(100,200)"
   ]
  },
  {
   "cell_type": "code",
   "execution_count": 17,
   "id": "35c7f15d",
   "metadata": {},
   "outputs": [],
   "source": [
    "func = lambda x,y : x+y"
   ]
  },
  {
   "cell_type": "code",
   "execution_count": 18,
   "id": "1a87ee1b",
   "metadata": {},
   "outputs": [
    {
     "data": {
      "text/plain": [
       "300"
      ]
     },
     "execution_count": 18,
     "metadata": {},
     "output_type": "execute_result"
    }
   ],
   "source": [
    "func(100,200)"
   ]
  },
  {
   "cell_type": "markdown",
   "id": "a8101e5b",
   "metadata": {},
   "source": [
    "## 3-3-2 함수 매개변수 및 내부함수 알아보기\n",
    "\n",
    "- 함수도 일반 값처럼 변수에 할당된다.\n",
    "- 그래서 함수의 매개변수에 함수를 전달할 수 있다.\n",
    "- 또한 함수 내부에 함수를 정의해서 사용할 수 있다. \n"
   ]
  },
  {
   "cell_type": "markdown",
   "id": "bcaebdc9",
   "metadata": {},
   "source": [
    "### 함수에 함수를 전달하기\n",
    "- 보통 하나의 함수를 지정하고 내부의 로직은 전달받은 함수로 처리하는 경우 많이 사용한다"
   ]
  },
  {
   "cell_type": "code",
   "execution_count": 19,
   "id": "c43964fa",
   "metadata": {},
   "outputs": [],
   "source": [
    "def agg(func,*args) :\n",
    "    return func(*args)\n",
    "    "
   ]
  },
  {
   "cell_type": "code",
   "execution_count": 20,
   "id": "13d1b512",
   "metadata": {},
   "outputs": [],
   "source": [
    "def add(x,y) :\n",
    "    return x+y"
   ]
  },
  {
   "cell_type": "code",
   "execution_count": 21,
   "id": "0be0776d",
   "metadata": {},
   "outputs": [
    {
     "data": {
      "text/plain": [
       "300"
      ]
     },
     "execution_count": 21,
     "metadata": {},
     "output_type": "execute_result"
    }
   ],
   "source": [
    "agg(add,100,200)"
   ]
  },
  {
   "cell_type": "markdown",
   "id": "9449de25",
   "metadata": {},
   "source": [
    "### 익명함수를 바로 함수의 인자로 전달해서 처리\n"
   ]
  },
  {
   "cell_type": "code",
   "execution_count": 22,
   "id": "ea93558a",
   "metadata": {},
   "outputs": [
    {
     "data": {
      "text/plain": [
       "300"
      ]
     },
     "execution_count": 22,
     "metadata": {},
     "output_type": "execute_result"
    }
   ],
   "source": [
    "agg(lambda x,y : x+y,100,200)"
   ]
  },
  {
   "cell_type": "markdown",
   "id": "59c52430",
   "metadata": {},
   "source": [
    "### 익명함수로도 처리가 가능하다"
   ]
  },
  {
   "cell_type": "code",
   "execution_count": 23,
   "id": "9ac51316",
   "metadata": {},
   "outputs": [],
   "source": [
    "agg_lambda = lambda func, *args : func(*args)"
   ]
  },
  {
   "cell_type": "code",
   "execution_count": 24,
   "id": "e958305d",
   "metadata": {},
   "outputs": [
    {
     "data": {
      "text/plain": [
       "300"
      ]
     },
     "execution_count": 24,
     "metadata": {},
     "output_type": "execute_result"
    }
   ],
   "source": [
    "agg_lambda(lambda x,y : x+y,100,200)"
   ]
  },
  {
   "cell_type": "markdown",
   "id": "4f5b91f2",
   "metadata": {},
   "source": [
    "### 함수 내부에 함수를 정의하기\n",
    "\n",
    "- 함수의 기능을 내부에서 세분화 하려면 함수 내부에 함수를 작성해서 처리한다.\n",
    "- 보통 이 내부 함수를 외부로 반환해서 처리도 가능하다."
   ]
  },
  {
   "cell_type": "code",
   "execution_count": 20,
   "id": "4b95d756",
   "metadata": {},
   "outputs": [],
   "source": [
    "def outer(x) :\n",
    "    print(\"외부함수 실행\")\n",
    "    def inner(y)  :\n",
    "        print(\"내부함수 실행\")\n",
    "        return x+y\n",
    "    \n",
    "    return inner"
   ]
  },
  {
   "cell_type": "code",
   "execution_count": 21,
   "id": "ecfdfd04",
   "metadata": {},
   "outputs": [
    {
     "name": "stdout",
     "output_type": "stream",
     "text": [
      "외부함수 실행\n"
     ]
    }
   ],
   "source": [
    "inner = outer(100)"
   ]
  },
  {
   "cell_type": "code",
   "execution_count": 22,
   "id": "a917ccb7",
   "metadata": {},
   "outputs": [
    {
     "name": "stdout",
     "output_type": "stream",
     "text": [
      "내부함수 실행\n"
     ]
    },
    {
     "data": {
      "text/plain": [
       "300"
      ]
     },
     "execution_count": 22,
     "metadata": {},
     "output_type": "execute_result"
    }
   ],
   "source": [
    "inner(200)"
   ]
  },
  {
   "cell_type": "markdown",
   "id": "0d0ec00b",
   "metadata": {},
   "source": [
    "## 3-3-3 함수 데코레이터 처리"
   ]
  },
  {
   "cell_type": "markdown",
   "id": "32d207a0",
   "metadata": {},
   "source": [
    "### 함수 데코레이터를 처리하기\n",
    "\n",
    "- 먼저 데코레이터 처리함수 정의\n",
    "- 실제 함수를 정의할 때 바로 위에 @데코레이터함수 지정"
   ]
  },
  {
   "cell_type": "code",
   "execution_count": 30,
   "id": "9454e6d1",
   "metadata": {},
   "outputs": [],
   "source": [
    "def deco(func) :\n",
    "    print(\"데코레이터 처리\")\n",
    "    def inner(*args,**kwagrs) :\n",
    "        print(\"내부함수 처리\")\n",
    "        return func(*args,**kwagrs)\n",
    "    return inner"
   ]
  },
  {
   "cell_type": "markdown",
   "id": "3a976fff",
   "metadata": {},
   "source": [
    "### 실제 실행함수에 데코레이터 처리하기 "
   ]
  },
  {
   "cell_type": "code",
   "execution_count": 31,
   "id": "5fbd05d5",
   "metadata": {},
   "outputs": [
    {
     "name": "stdout",
     "output_type": "stream",
     "text": [
      "데코레이터 처리\n"
     ]
    }
   ],
   "source": [
    "@deco\n",
    "def add(x,y) :\n",
    "    return x+y"
   ]
  },
  {
   "cell_type": "markdown",
   "id": "4204cf11",
   "metadata": {},
   "source": [
    "#### 함수를 실행하기 "
   ]
  },
  {
   "cell_type": "code",
   "execution_count": 32,
   "id": "8fc28093",
   "metadata": {},
   "outputs": [
    {
     "name": "stdout",
     "output_type": "stream",
     "text": [
      "내부함수 처리\n"
     ]
    },
    {
     "data": {
      "text/plain": [
       "300"
      ]
     },
     "execution_count": 32,
     "metadata": {},
     "output_type": "execute_result"
    }
   ],
   "source": [
    "add(100,200)"
   ]
  },
  {
   "cell_type": "markdown",
   "id": "1db45e79",
   "metadata": {},
   "source": [
    "### 데코레이터를 스택 쌓기\n",
    "\n",
    "- 기능을 추가하고자 하면 데코레이터 함수를 더 작성한 후에 실행함수에 데코레이터 스택을 쌓으면 된다. "
   ]
  },
  {
   "cell_type": "code",
   "execution_count": 35,
   "id": "30fed691",
   "metadata": {},
   "outputs": [],
   "source": [
    "def deco2(func) :\n",
    "    print(\"데코레이터 처리 2\")\n",
    "    def inner(*args,**kwagrs) :\n",
    "        print(\"내부함수 처리 2\")\n",
    "        return func(*args,**kwagrs)\n",
    "    return inner"
   ]
  },
  {
   "cell_type": "code",
   "execution_count": 36,
   "id": "bbde939a",
   "metadata": {},
   "outputs": [
    {
     "name": "stdout",
     "output_type": "stream",
     "text": [
      "데코레이터 처리\n",
      "데코레이터 처리 2\n"
     ]
    }
   ],
   "source": [
    "@deco2\n",
    "@deco\n",
    "def mul(x,y) :\n",
    "    return x*y"
   ]
  },
  {
   "cell_type": "code",
   "execution_count": 37,
   "id": "86756a6f",
   "metadata": {},
   "outputs": [
    {
     "name": "stdout",
     "output_type": "stream",
     "text": [
      "내부함수 처리 2\n",
      "내부함수 처리\n"
     ]
    },
    {
     "data": {
      "text/plain": [
       "20000"
      ]
     },
     "execution_count": 37,
     "metadata": {},
     "output_type": "execute_result"
    }
   ],
   "source": [
    "mul(100,200)"
   ]
  },
  {
   "cell_type": "code",
   "execution_count": null,
   "id": "8d9d834b",
   "metadata": {},
   "outputs": [],
   "source": []
  }
 ],
 "metadata": {
  "kernelspec": {
   "display_name": "Python 3 (ipykernel)",
   "language": "python",
   "name": "python3"
  },
  "language_info": {
   "codemirror_mode": {
    "name": "ipython",
    "version": 3
   },
   "file_extension": ".py",
   "mimetype": "text/x-python",
   "name": "python",
   "nbconvert_exporter": "python",
   "pygments_lexer": "ipython3",
   "version": "3.9.16"
  }
 },
 "nbformat": 4,
 "nbformat_minor": 5
}
