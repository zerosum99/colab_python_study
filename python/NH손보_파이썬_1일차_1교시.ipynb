{
 "cells": [
  {
   "cell_type": "code",
   "execution_count": null,
   "id": "128cf736",
   "metadata": {},
   "outputs": [],
   "source": []
  },
  {
   "cell_type": "markdown",
   "id": "5c84e6b3",
   "metadata": {},
   "source": [
    "## 표현식(리터럴)/문장/프로그램\n",
    "\n",
    "### 리터럴과 표현식은 실제 값을 표현하는 것\n",
    "### 문장은 프로그램을 구성하는 최소 단위이면 구조화하는 함수, 클래스도 포함\n",
    "### 프로그램은 이런 문장을 하나로 묶는 단위 (보통, 모듈\n",
    "\n",
    "![](../image/표현식문장프로그램.png)"
   ]
  },
  {
   "cell_type": "code",
   "execution_count": null,
   "id": "9baac3c9",
   "metadata": {},
   "outputs": [],
   "source": []
  },
  {
   "cell_type": "markdown",
   "id": "2bc8ab43",
   "metadata": {},
   "source": [
    "# 1. 파이썬 리터럴, 변수 처리 "
   ]
  },
  {
   "cell_type": "markdown",
   "id": "88366a3f",
   "metadata": {},
   "source": [
    "## 1-1 숫자나 문자열에 대한  값  처리 \n",
    "- 리터럴은 하나의 값을 표시하는 값(value)를 의미\n",
    "- 보통 프로그램 언어에서 숫자, 문자열, 불리언 등에 대해서는 일반적으로 별도의 생성절차없이 작성하는 것만으로 값으로 처리한다. "
   ]
  },
  {
   "cell_type": "markdown",
   "id": "3f71fec4",
   "metadata": {},
   "source": [
    "## 1-1-1  일반적인 리터럴 표기\n",
    "\n",
    "- 리터럴은 값을 표현한다.\n",
    "- 보통 사람이 숫자나 문자 등을 쉽게 표현할 수 있는 방식을 프로그램에서 그대로 반영한다.\n",
    "- 보통 리터럴은 한번 정의해서 사용하므로 이를 저장하는 변수에 할당이 필요 \n"
   ]
  },
  {
   "cell_type": "markdown",
   "id": "566909c1",
   "metadata": {},
   "source": [
    "### 리터럴(literals)을  사용하는 이유\n",
    "\n",
    "- 숫자, 문자 등을 사람이 표현하는 대로 프로그램 언어에서 사용하게 함 \n",
    "- 숫자와 문자도 클래스를 사용해 객체를 생성하는 것보다 편리함 "
   ]
  },
  {
   "cell_type": "markdown",
   "id": "10bd319f",
   "metadata": {},
   "source": [
    "### 일반적인 값을 리터럴로 표기하기 \n",
    "\n",
    "- 파이썬에는 문자는 별도로 없고 다 문자열로 처리한다."
   ]
  },
  {
   "cell_type": "code",
   "execution_count": 1,
   "id": "536a0a26",
   "metadata": {},
   "outputs": [
    {
     "data": {
      "text/plain": [
       "100"
      ]
     },
     "execution_count": 1,
     "metadata": {},
     "output_type": "execute_result"
    },
    {
     "data": {
      "text/plain": [
       "100"
      ]
     },
     "execution_count": 1,
     "metadata": {},
     "output_type": "execute_result"
    }
   ],
   "source": [
    "100         # 정수 리터럴 "
   ]
  },
  {
   "cell_type": "code",
   "execution_count": 2,
   "id": "eed8bc00",
   "metadata": {},
   "outputs": [],
   "source": [
    "100.33      # 실수 리터럴"
   ]
  },
  {
   "cell_type": "code",
   "execution_count": 3,
   "id": "03040841",
   "metadata": {},
   "outputs": [],
   "source": [
    "\"문자열\"      # 문자열 리터럴"
   ]
  },
  {
   "cell_type": "code",
   "execution_count": 4,
   "id": "00b9d45c",
   "metadata": {},
   "outputs": [],
   "source": [
    "True         # 불리언 "
   ]
  },
  {
   "cell_type": "code",
   "execution_count": null,
   "id": "9718acde",
   "metadata": {},
   "outputs": [],
   "source": []
  },
  {
   "cell_type": "markdown",
   "id": "9dd6b8d0",
   "metadata": {},
   "source": [
    "## 1-1-2  내장 자료형도 기본적으로 리터럴로 사용이 가능\n",
    "\n",
    "- 내장 자료형인 튜플, 리스트, 집합, 딕셔너리도 리터럴로 바로 값을 만들 수 있다.  \n",
    "\n",
    "- 집합   : 중괄호와 값 표현 구분은 쉼표 {값1, 값2}"
   ]
  },
  {
   "cell_type": "markdown",
   "id": "437d3d21",
   "metadata": {},
   "source": [
    "### 리스트 : \n",
    "\n",
    "- 대괄호와 값표현 구분은 쉼표  [값1, 값2] "
   ]
  },
  {
   "cell_type": "code",
   "execution_count": 5,
   "id": "a0959b59",
   "metadata": {},
   "outputs": [],
   "source": [
    "[]                   # 빈 리스트"
   ]
  },
  {
   "cell_type": "code",
   "execution_count": 6,
   "id": "3e03e53e",
   "metadata": {},
   "outputs": [],
   "source": [
    "[1,2,3,4]            # 요소를 가진 리스트 "
   ]
  },
  {
   "cell_type": "markdown",
   "id": "9c9aaa81",
   "metadata": {},
   "source": [
    "###  튜플 : \n",
    "\n",
    "- 소괄호와 값 표현 구분은 쉼표  (값1, 값2)"
   ]
  },
  {
   "cell_type": "code",
   "execution_count": 7,
   "id": "6d7ef63c",
   "metadata": {},
   "outputs": [],
   "source": [
    "(1,)                 # 하나의 원소를 가진 튜플 "
   ]
  },
  {
   "cell_type": "code",
   "execution_count": 8,
   "id": "8d46b17e",
   "metadata": {},
   "outputs": [],
   "source": [
    "()                   # 빈 튜플"
   ]
  },
  {
   "cell_type": "markdown",
   "id": "c0eb1d2d",
   "metadata": {},
   "source": [
    "### 딕셔너리 : \n",
    "- 중괄호와 키와 값 표현     \n",
    "- {키1:값1, 키2:값2} "
   ]
  },
  {
   "cell_type": "code",
   "execution_count": 9,
   "id": "d73cdb98",
   "metadata": {},
   "outputs": [],
   "source": [
    "{1:2, 2:2, 3:3 }     # 키와 값을 쌍으로 가지는 딕셔너리"
   ]
  },
  {
   "cell_type": "code",
   "execution_count": 10,
   "id": "516f01b8",
   "metadata": {},
   "outputs": [],
   "source": [
    "{}                  # 빈 딕셔너리 "
   ]
  },
  {
   "cell_type": "markdown",
   "id": "df4a479e",
   "metadata": {},
   "source": [
    "### 집합   : \n",
    "\n",
    "- 중괄호와 값 표현 구분은 쉼표 {값1, 값2}"
   ]
  },
  {
   "cell_type": "code",
   "execution_count": 1,
   "id": "d99acf0f",
   "metadata": {},
   "outputs": [
    {
     "data": {
      "text/plain": [
       "{1, 2, 3, 4, 5}"
      ]
     },
     "execution_count": 1,
     "metadata": {},
     "output_type": "execute_result"
    }
   ],
   "source": [
    "{1,2,3,4,5 }     # 키만 가지는 형태 "
   ]
  },
  {
   "cell_type": "code",
   "execution_count": 3,
   "id": "ffa19477",
   "metadata": {},
   "outputs": [
    {
     "data": {
      "text/plain": [
       "set()"
      ]
     },
     "execution_count": 3,
     "metadata": {},
     "output_type": "execute_result"
    }
   ],
   "source": [
    "set()            # 빈집합을 표시"
   ]
  },
  {
   "cell_type": "markdown",
   "id": "c867ee7f",
   "metadata": {},
   "source": [
    "## 1-1-3 리터럴의 자료형 알아보기 \n",
    "\n",
    "- 파이썬은 모든 리터럴 즉 값이고 이 값은 대표하는 클래스인 자료형을 가진다.\n",
    "- 파이썬에서 자료형은 모두 클래스이다. \n",
    "- 그래서 모든 값은 객체이고 이 객체를 생성하는 것은 클래스이다. \n"
   ]
  },
  {
   "cell_type": "markdown",
   "id": "1894c21f",
   "metadata": {},
   "source": [
    "### type 사용해서 자료형 확인\n",
    "\n",
    "- type에 인자로 리터럴을 전달하면 그 값이 어떤 자료형인지 알려준다"
   ]
  },
  {
   "cell_type": "code",
   "execution_count": 11,
   "id": "b8a23305",
   "metadata": {},
   "outputs": [],
   "source": [
    "type(100)                     # 정수 리터럴을 넣고 자료형을 확인 "
   ]
  },
  {
   "cell_type": "markdown",
   "id": "a386866d",
   "metadata": {},
   "source": [
    "### 파이썬은 값별로 자료형을 가지고 다니다.\n",
    "\n",
    "- 각 값에 __class__ 속성을 확인하면 어떤 자료형인지 알 수 있다.\n",
    "- 파이썬이 값은 알고보면 전부 클래스로 만들어진 객체라는 것을 알 수 있다. "
   ]
  },
  {
   "cell_type": "code",
   "execution_count": 12,
   "id": "7a6f1580",
   "metadata": {},
   "outputs": [],
   "source": [
    "(100).__class__                # 모든 리터럴은 객체이다. 그래서 자기를 만든 클래스를 확인이 가능하다\n",
    "                               # __class__ 속성으로 해당 객체를 만든 클래스를 알 수 있다."
   ]
  },
  {
   "cell_type": "code",
   "execution_count": 13,
   "id": "71c2a444",
   "metadata": {},
   "outputs": [],
   "source": [
    "(100.2).__class__              # 실수에 대한 자료형을 알아보기 "
   ]
  },
  {
   "cell_type": "code",
   "execution_count": 14,
   "id": "0e709b2d",
   "metadata": {},
   "outputs": [],
   "source": [
    "{1:2, 2:2, 3:3 }.__class__     # 딕셔너리에 대한 자료형 알아보기"
   ]
  },
  {
   "cell_type": "code",
   "execution_count": null,
   "id": "f2816e01",
   "metadata": {},
   "outputs": [],
   "source": []
  },
  {
   "cell_type": "markdown",
   "id": "c2045af4",
   "metadata": {},
   "source": [
    "## 1-2 변수는 이름이다. \n",
    "\n",
    "- 변수(variable)은 실제 리터럴인 값을 재활용하는 이름이다. \n",
    "- 그래서 값을 재사용하기 위해서 변수를 구분해서 사용한다.\n",
    "- 이렇게 식별해서 관리하는 이름을 식별자라고 한다. \n",
    "\n",
    "![](../image/변수.png)"
   ]
  },
  {
   "cell_type": "markdown",
   "id": "c9716f95",
   "metadata": {},
   "source": [
    "## 파이썬 이름 관리 영역 : 네임스페이스 \n",
    "\n",
    "- 파이썬의 특징은 모든 식별자를 동일한 영역에서 관리한다.\n",
    "- 모듈에 변수, 함수, 클래스가 정의되면 각각의 이름을 하나의 네임스페이스에서 관리한다. \n",
    "\n",
    "\n",
    "### 변수, 함수명 등은 동일한 이름으로 인식\n",
    "\n",
    "- 전역 (global namespace) : 하나의 모듈에 있는 변수 등 이름 관리\n",
    "- 지역 (local namespace)  : 함수에 있는 변수 등 이름관리 \n",
    "\n",
    "![](../image/네임스페이스.png)"
   ]
  },
  {
   "cell_type": "markdown",
   "id": "d93d997c",
   "metadata": {},
   "source": [
    "## 1-2-1 변수는 리터럴 등 값을 관리하는 이름 \n",
    "\n",
    "- 변수는 단순의 값을 관리하는 이름이므로 변수를 정의하려면 항상 값을 할당해야 한다.\n",
    "- 할당연산자(배정연산자) = 의 좌측에는 변수명을 사용하고 우측은 값을 작성한다.\n",
    "- 변수의 이름은 유니코드 문자열이 다 가능해서 한글도 변수명으로 가능하다. "
   ]
  },
  {
   "cell_type": "markdown",
   "id": "9438a199",
   "metadata": {},
   "source": [
    "### 한글로 변수이름 정의"
   ]
  },
  {
   "cell_type": "code",
   "execution_count": 15,
   "id": "0ff759fc",
   "metadata": {},
   "outputs": [],
   "source": [
    "정수변수 = 100\n",
    "실수변수 = 100.23"
   ]
  },
  {
   "cell_type": "markdown",
   "id": "ca9b8d38",
   "metadata": {},
   "source": [
    "### 영어로 변수이름 정의 "
   ]
  },
  {
   "cell_type": "code",
   "execution_count": 16,
   "id": "eec24dfa",
   "metadata": {},
   "outputs": [],
   "source": [
    "x = 100\n",
    "f = 100.23"
   ]
  },
  {
   "cell_type": "code",
   "execution_count": null,
   "id": "46121c23",
   "metadata": {},
   "outputs": [],
   "source": []
  },
  {
   "cell_type": "markdown",
   "id": "c570e082",
   "metadata": {},
   "source": [
    "## 1-2-2 변수 이름 정의하기 \n",
    "\n",
    "- 첫번째는 항상 문자나 밑줄(_)로 지정한다.\n",
    "- 영어를 보통 사용하므로 변수는 소문자로 처리한다.\n",
    "- 영어 단어가 연결될 경우 두 번째 단어는 대문자로 시작한다. "
   ]
  },
  {
   "cell_type": "code",
   "execution_count": 17,
   "id": "1d5cab88",
   "metadata": {},
   "outputs": [],
   "source": [
    "name = \"이름\"              # 한단어 변수 "
   ]
  },
  {
   "cell_type": "code",
   "execution_count": 18,
   "id": "761aabe9",
   "metadata": {},
   "outputs": [],
   "source": [
    "accountNumber = 1234      # 두단어 변수 "
   ]
  },
  {
   "cell_type": "code",
   "execution_count": 19,
   "id": "35e9f8f9",
   "metadata": {},
   "outputs": [],
   "source": [
    "_age = 33                 # 밑줄을 사용하는 변수 "
   ]
  },
  {
   "cell_type": "code",
   "execution_count": 20,
   "id": "bdb0e5a1",
   "metadata": {},
   "outputs": [],
   "source": [
    "# 123age = 30             # SyntaxError: invalid syntax\n"
   ]
  },
  {
   "cell_type": "markdown",
   "id": "96d49545",
   "metadata": {},
   "source": [
    "## 1-3 표현식 \n",
    "\n",
    "- 수학의 수식을 표현식(expression)이라고 함\n",
    "- 표현식은 리터럴과 연산자 등을 사용해서 구성한다.  \n",
    "- 표현식이 실행되면  항상 이를 계산해서 하나의 값으로 만든다. "
   ]
  },
  {
   "cell_type": "markdown",
   "id": "3db64ef2",
   "metadata": {},
   "source": [
    "## 1-3-1 표현식 정의 \n",
    "\n",
    "- 여러 개의 수식을 작성하지만 실행결과는 하나의 값으로 변환한다."
   ]
  },
  {
   "cell_type": "markdown",
   "id": "618a53b4",
   "metadata": {},
   "source": [
    "### 수식을 정의하면 하나의 값으로 변환됨\n",
    "\n",
    "- 두 개의 변수와 하나의 리터럴\n",
    "- 두 개의 연산자\n",
    "- 계산된 결과를 하나의 값으로 반환처리 "
   ]
  },
  {
   "cell_type": "code",
   "execution_count": 21,
   "id": "7427e24c",
   "metadata": {},
   "outputs": [],
   "source": [
    "정수변수 + 실수변수 * 100"
   ]
  },
  {
   "cell_type": "markdown",
   "id": "4672ddbf",
   "metadata": {},
   "source": [
    "## 1-3-2  표현식 결과를 변수에 저장 \n",
    "\n",
    "-  표현식의 결과도 재사용하려면 변수에 할당해서 사용해야한다,"
   ]
  },
  {
   "cell_type": "markdown",
   "id": "820c652a",
   "metadata": {},
   "source": [
    "### 표현식의 결과도 변수에 저장해서 처리\n",
    "\n",
    "- 표현식이 결과를 재사용하려면 항상 변수에 할당해야 한다. "
   ]
  },
  {
   "cell_type": "code",
   "execution_count": 22,
   "id": "28df05aa",
   "metadata": {},
   "outputs": [],
   "source": [
    "var = 정수변수 + 실수변수 * 100"
   ]
  },
  {
   "cell_type": "code",
   "execution_count": 23,
   "id": "56e96c00",
   "metadata": {},
   "outputs": [],
   "source": [
    "var "
   ]
  },
  {
   "cell_type": "markdown",
   "id": "01cd1590",
   "metadata": {},
   "source": [
    "## 1-4  변수에 자료형 지정하기\n",
    "\n",
    "- 파이썬은 변수를 이름으로만 사용해서 실제 자료형이 필요없다.\n",
    "- 대신 변수에 특정 주석인 애노테이션을 지정할 수 있다.\n",
    "- 이런 애노테이션을 지정할 경우 해당 자료형만 처리하는 것으로 작성해야 한다. \n",
    "- 별도의 자료형 체크를 인터프리터는 수행하지 않는다"
   ]
  },
  {
   "cell_type": "markdown",
   "id": "2601cf0e",
   "metadata": {},
   "source": [
    "## 1-4-1 변수와 자료형만 지정한 경우는 변수로 인식하지 않는다.\n",
    "\n",
    "- 동적 자료형 :  변수에 특정 자료형을 지정하지 못한다. 실행시점에 실제 객체를 확인해서 자료형 즉 클래스를 확인한다."
   ]
  },
  {
   "cell_type": "markdown",
   "id": "f5d09370",
   "metadata": {},
   "source": [
    "### 변수에 애노테이션 붙이기"
   ]
  },
  {
   "cell_type": "code",
   "execution_count": 24,
   "id": "f2014a19",
   "metadata": {},
   "outputs": [],
   "source": [
    "var1 : int     # 실제 변수를 정의한 것 같지만 아무것도 정의되지 않음 "
   ]
  },
  {
   "cell_type": "markdown",
   "id": "564bcf72",
   "metadata": {},
   "source": [
    "### 변수 정의가 안되어서 에러처리"
   ]
  },
  {
   "cell_type": "code",
   "execution_count": 25,
   "id": "856e2508",
   "metadata": {},
   "outputs": [],
   "source": [
    "try :\n",
    "    var1         # 변수로 정의가 되지 않아서 이 변수의 이름을 찾을 수 없어 에러가 발생함 \n",
    "except NameError as e :\n",
    "    print(e)"
   ]
  },
  {
   "cell_type": "code",
   "execution_count": null,
   "id": "d680936e",
   "metadata": {},
   "outputs": [],
   "source": []
  },
  {
   "cell_type": "markdown",
   "id": "0fe5c1cb",
   "metadata": {},
   "source": [
    "## 1-4-2  변수는 반드시 값을 할당해야한다,   \n",
    "\n",
    "- 반드시 할당연산자(=) 다음에 값을 지정해야 함 "
   ]
  },
  {
   "cell_type": "markdown",
   "id": "50c5ef6f",
   "metadata": {},
   "source": [
    "### 변수 정의는 꼭 값이 할당되어야 함"
   ]
  },
  {
   "cell_type": "code",
   "execution_count": 26,
   "id": "88254b74",
   "metadata": {},
   "outputs": [],
   "source": [
    "var2 : int = 300       # 파이썬도 변수에 자료형을 애노테이션으로 지정이 가능\n",
    "                       # 애노테이션은 이 변수에 저장되는 자료형을 알려주는 주석이다. "
   ]
  },
  {
   "cell_type": "code",
   "execution_count": 27,
   "id": "667050c9",
   "metadata": {},
   "outputs": [],
   "source": [
    "var2"
   ]
  },
  {
   "cell_type": "code",
   "execution_count": null,
   "id": "2e8d724a",
   "metadata": {},
   "outputs": [],
   "source": []
  },
  {
   "cell_type": "code",
   "execution_count": null,
   "id": "92fd11e9",
   "metadata": {},
   "outputs": [],
   "source": []
  },
  {
   "cell_type": "markdown",
   "id": "30d76168",
   "metadata": {},
   "source": [
    "## 1-5  출력 및 포매팅\n",
    "\n",
    "- 컴퓨터와 사람간의 메시지는 모두 문자열로 처리한다.\n",
    "- 그래서 컴퓨터에 입력하고 화면에 출력하려면 문자열로 변환한 결과를 보여줘야 한다.\n",
    "- 이때 문자열로 변환하는 것을 포매팅이라고 하다. "
   ]
  },
  {
   "cell_type": "markdown",
   "id": "ded8a4f4",
   "metadata": {},
   "source": [
    "## 1-5-1 프로그램에서 출력할 때는 print 함수를 사용\n"
   ]
  },
  {
   "cell_type": "markdown",
   "id": "c30302c0",
   "metadata": {},
   "source": [
    "### print 함수를 통해서 출력표시하기"
   ]
  },
  {
   "cell_type": "code",
   "execution_count": 28,
   "id": "e818183d",
   "metadata": {},
   "outputs": [],
   "source": [
    "print(\"Hello World !!!\")"
   ]
  },
  {
   "cell_type": "markdown",
   "id": "4112ba3b",
   "metadata": {},
   "source": [
    "### 연속적인 것을 문자열로 출력할 때는 쉼표로 구분해서 처리"
   ]
  },
  {
   "cell_type": "code",
   "execution_count": 29,
   "id": "a4cb828e",
   "metadata": {},
   "outputs": [],
   "source": [
    "print(\"문자열 \", 100)"
   ]
  },
  {
   "cell_type": "markdown",
   "id": "913d5465",
   "metadata": {},
   "source": [
    "## 1-5-2  다양한 것을 출력할 때는 포매팅을 사용\n",
    "\n",
    "- f 문자열을 지정해서 처리 \n",
    "- 문자열 앞에 f를 붙이고 변수가 위치한 곳에 중괄호로 표시해서 처리함"
   ]
  },
  {
   "cell_type": "code",
   "execution_count": 5,
   "id": "577d9375",
   "metadata": {},
   "outputs": [],
   "source": [
    "a = 100"
   ]
  },
  {
   "cell_type": "markdown",
   "id": "5265c5f2",
   "metadata": {},
   "source": [
    "### f문자열은 포매팅처리 문자열\n",
    "\n",
    "- 문자열 앞에 f를 붙여서 출력가능한 포매팅 처리한다.\n",
    "- 변수를 가져오기 위해 중괄호 안에 변수명을 작성한다.\n",
    "- 가져온 변수의 값을 추가적인 포매팅을 하기 위해 : 다음에 포매터를 작성할 수 있다.\n"
   ]
  },
  {
   "cell_type": "code",
   "execution_count": 6,
   "id": "16322b49",
   "metadata": {},
   "outputs": [],
   "source": [
    "b = f\" 정수 a = {a} \""
   ]
  },
  {
   "cell_type": "code",
   "execution_count": 7,
   "id": "9184cdd8",
   "metadata": {},
   "outputs": [
    {
     "name": "stdout",
     "output_type": "stream",
     "text": [
      " 정수 a = 100 \n"
     ]
    }
   ],
   "source": [
    "print(b)"
   ]
  },
  {
   "cell_type": "markdown",
   "id": "2b429d75",
   "metadata": {},
   "source": [
    "### 정수를 특정 간력으로 출력하기 "
   ]
  },
  {
   "cell_type": "code",
   "execution_count": 8,
   "id": "e78f6921",
   "metadata": {},
   "outputs": [],
   "source": [
    "c = f\" 정수 a = {a:10d} \""
   ]
  },
  {
   "cell_type": "code",
   "execution_count": 9,
   "id": "470357db",
   "metadata": {},
   "outputs": [
    {
     "name": "stdout",
     "output_type": "stream",
     "text": [
      " 정수 a =        100 \n"
     ]
    }
   ],
   "source": [
    "print(c)"
   ]
  },
  {
   "cell_type": "markdown",
   "id": "f578927d",
   "metadata": {},
   "source": [
    "### 정수를 이진수로 출력하기"
   ]
  },
  {
   "cell_type": "code",
   "execution_count": 10,
   "id": "937d0f64",
   "metadata": {},
   "outputs": [],
   "source": [
    "d = f\" 정수 a = {a:b} \""
   ]
  },
  {
   "cell_type": "code",
   "execution_count": 11,
   "id": "583850a8",
   "metadata": {},
   "outputs": [
    {
     "name": "stdout",
     "output_type": "stream",
     "text": [
      " 정수 a = 1100100 \n"
     ]
    }
   ],
   "source": [
    "print(d)"
   ]
  },
  {
   "cell_type": "code",
   "execution_count": null,
   "id": "e5878d05",
   "metadata": {},
   "outputs": [],
   "source": []
  },
  {
   "cell_type": "markdown",
   "id": "6f2e9bca",
   "metadata": {},
   "source": [
    "# 2. 파이썬 내장 자료형  :  Scalar \n",
    "\n",
    "- 숫자, 불리언은 하나의 값만 관리하는 자료형"
   ]
  },
  {
   "cell_type": "code",
   "execution_count": null,
   "id": "32df9269",
   "metadata": {},
   "outputs": [],
   "source": []
  },
  {
   "cell_type": "markdown",
   "id": "9580e103",
   "metadata": {},
   "source": [
    "## 2-1 숫자 자료형 및 연산자 처리 알아보기\n",
    "\n",
    "- 숫자 자료형은 int/float 두 가지가 있다.\n",
    "- 파이썬에는 나눗셈이 2(나머지까지 나누셈, 몫만 나눗셈 ) 개가 있다. \n",
    "- 그래서 나눗셈 연산자도 2개 (/ ,//) 이다."
   ]
  },
  {
   "cell_type": "markdown",
   "id": "a36a1067",
   "metadata": {},
   "source": [
    "## 2-1-1 숫자에서 정수와 실수가 있음 "
   ]
  },
  {
   "cell_type": "code",
   "execution_count": 34,
   "id": "a00b33e7",
   "metadata": {},
   "outputs": [],
   "source": [
    "int  #  정수 클래스"
   ]
  },
  {
   "cell_type": "code",
   "execution_count": 35,
   "id": "0ab5ac8d",
   "metadata": {},
   "outputs": [],
   "source": [
    "float # 실수 클래스"
   ]
  },
  {
   "cell_type": "markdown",
   "id": "fcbd3ccc",
   "metadata": {},
   "source": [
    "### 정수를 클래스로 생성하기\n",
    "\n",
    "- 보통 클래스를 사용해서 값을 생성하는 것은 값이 자료형을 변환하는 것과 같다"
   ]
  },
  {
   "cell_type": "code",
   "execution_count": 36,
   "id": "95e6f623",
   "metadata": {},
   "outputs": [],
   "source": [
    "iVar = int(\"100\")"
   ]
  },
  {
   "cell_type": "code",
   "execution_count": 37,
   "id": "43b39566",
   "metadata": {},
   "outputs": [],
   "source": [
    "fVar = float(\"100.11\")"
   ]
  },
  {
   "cell_type": "code",
   "execution_count": 38,
   "id": "ec9ca336",
   "metadata": {},
   "outputs": [],
   "source": [
    "ss = f\"정수값 {iVar} 실수값 {fVar}\""
   ]
  },
  {
   "cell_type": "code",
   "execution_count": 39,
   "id": "748c32f8",
   "metadata": {},
   "outputs": [],
   "source": [
    "print(ss)"
   ]
  },
  {
   "cell_type": "markdown",
   "id": "cc992fda",
   "metadata": {},
   "source": [
    "## 2-1-2 연산자 알아보기\n",
    "\n",
    "- 수학처럼 숫자 등을 계산할 경우 함수를 사용하지 않고 연산자 기호를 그대로 사용해서 처리"
   ]
  },
  {
   "cell_type": "code",
   "execution_count": 40,
   "id": "98692595",
   "metadata": {},
   "outputs": [],
   "source": [
    "100 + 200     # 이항연산자 : 두개의 항를 가진 연산자"
   ]
  },
  {
   "cell_type": "markdown",
   "id": "99386a4e",
   "metadata": {},
   "source": [
    "### 사칙연산 \n",
    "\n",
    "- 나누기를 2개 제공\n",
    "- / : 나머지까지 나누기\n",
    "- // : 나머지를 버리고 나누기 "
   ]
  },
  {
   "cell_type": "code",
   "execution_count": 41,
   "id": "09ae32b8",
   "metadata": {},
   "outputs": [],
   "source": [
    "print(f\" 더하기  {100+200}\")\n",
    "print(f\" 빼기   {200-100}\")\n",
    "print(f\" 곱하기  {100*200}\")\n",
    "print(f\" 나누기  {200/3}\")\n",
    "print(f\" 나누기  {200//3}\")\n",
    "print(f\" 나머지  {200%3}\")"
   ]
  },
  {
   "cell_type": "code",
   "execution_count": null,
   "id": "f3339e99",
   "metadata": {},
   "outputs": [],
   "source": []
  },
  {
   "cell_type": "markdown",
   "id": "a7266743",
   "metadata": {},
   "source": [
    "## 2-2  불리언 값 처리 "
   ]
  },
  {
   "cell_type": "markdown",
   "id": "b3cd301b",
   "metadata": {},
   "source": [
    "## 2-2-1 불리언 값 처리\n",
    "\n",
    "- 논리 값을 계산하는 방식 제공한다.\n",
    "- 파이썬은 불리언도 실제 정수 값인 0 과 1이다. \n"
   ]
  },
  {
   "cell_type": "markdown",
   "id": "e05319f8",
   "metadata": {},
   "source": [
    "### 파이썬 불리언은 정수로 처리 가능\n",
    "- 다른 프로그램 언어와 다르게 파이썬 불리언은 정수의 1과 0 으로 변환해서 처리됨"
   ]
  },
  {
   "cell_type": "code",
   "execution_count": 42,
   "id": "d3a492f4",
   "metadata": {},
   "outputs": [],
   "source": [
    "True + False"
   ]
  },
  {
   "cell_type": "markdown",
   "id": "f9525a08",
   "metadata": {},
   "source": [
    "### 각 자료형의 값이 없다는 표기는 전부 False로 인식\n",
    "- 그러면 값이 있다는 것은  True로 인식"
   ]
  },
  {
   "cell_type": "code",
   "execution_count": 14,
   "id": "2d666de6",
   "metadata": {},
   "outputs": [],
   "source": [
    "sb = bool(\"\")"
   ]
  },
  {
   "cell_type": "code",
   "execution_count": 15,
   "id": "fa894ebf",
   "metadata": {},
   "outputs": [
    {
     "data": {
      "text/plain": [
       "False"
      ]
     },
     "execution_count": 15,
     "metadata": {},
     "output_type": "execute_result"
    }
   ],
   "source": [
    "sb"
   ]
  },
  {
   "cell_type": "markdown",
   "id": "74932902",
   "metadata": {},
   "source": [
    "### 특정 값이 있다면 전부 True 이다."
   ]
  },
  {
   "cell_type": "code",
   "execution_count": 12,
   "id": "6c4b5192",
   "metadata": {},
   "outputs": [
    {
     "data": {
      "text/plain": [
       "(True, True)"
      ]
     },
     "execution_count": 12,
     "metadata": {},
     "output_type": "execute_result"
    }
   ],
   "source": [
    "bool(100), bool([1,2,3])"
   ]
  },
  {
   "cell_type": "code",
   "execution_count": null,
   "id": "62042874",
   "metadata": {},
   "outputs": [],
   "source": []
  },
  {
   "cell_type": "markdown",
   "id": "f138f559",
   "metadata": {},
   "source": [
    "## 2-2-2  조건문 처리 \n",
    "\n",
    "- 여러 문자을 특정 조건에 처리하는 문장을 조건문이라고 한다.\n",
    "- 조건문의 예약어는 if else elif 등이 있다.\n",
    "- 조건문은 조건식을 판단해서 처리하므로 주로 비교연산이나 논리연산을 사용한다. \n",
    "\n"
   ]
  },
  {
   "cell_type": "markdown",
   "id": "9260bb5d",
   "metadata": {},
   "source": [
    "### 참인 결과만 처리하기  "
   ]
  },
  {
   "cell_type": "code",
   "execution_count": 16,
   "id": "d00b8701",
   "metadata": {},
   "outputs": [
    {
     "name": "stdout",
     "output_type": "stream",
     "text": [
      " 참값입니다. \n"
     ]
    }
   ],
   "source": [
    "if 100 :\n",
    "    print(\" 참값입니다. \")"
   ]
  },
  {
   "cell_type": "markdown",
   "id": "988fb34a",
   "metadata": {},
   "source": [
    "### 참과 거짓을 처리하기"
   ]
  },
  {
   "cell_type": "code",
   "execution_count": 17,
   "id": "6adff21d",
   "metadata": {},
   "outputs": [
    {
     "name": "stdout",
     "output_type": "stream",
     "text": [
      " 참으로 처리 \n"
     ]
    }
   ],
   "source": [
    "if 100 < 200 :\n",
    "    print(\" 참으로 처리 \")\n",
    "else :\n",
    "    print(\" 거짓인 조건 \")"
   ]
  },
  {
   "cell_type": "markdown",
   "id": "56c93d63",
   "metadata": {},
   "source": [
    "### 내포된 조건문 처리하기\n",
    "\n",
    "- if 문 안에 if 문을 작성해서 처리할 수 있다."
   ]
  },
  {
   "cell_type": "code",
   "execution_count": 18,
   "id": "4bd7300e",
   "metadata": {},
   "outputs": [],
   "source": [
    "c = 95"
   ]
  },
  {
   "cell_type": "code",
   "execution_count": 19,
   "id": "f84af58d",
   "metadata": {},
   "outputs": [
    {
     "name": "stdout",
     "output_type": "stream",
     "text": [
      " 95이상\n"
     ]
    }
   ],
   "source": [
    "if c > 90 :\n",
    "    if c < 95 :\n",
    "        print(\" 95미만\")\n",
    "    else :\n",
    "        print(\" 95이상\")\n",
    "else :\n",
    "    print(\"90이하\")"
   ]
  },
  {
   "cell_type": "markdown",
   "id": "5393a871",
   "metadata": {},
   "source": [
    "### 특정 값을 입력 받아서 음수 양수 구분하기\n",
    "\n",
    "- 표준입력 즉 키보드 입력을 처리하는 함수는 input 이다\n",
    "- input 함수의 결과는 문자열이라 숫자로 처리하려면 변환이 필요하다."
   ]
  },
  {
   "cell_type": "code",
   "execution_count": 20,
   "id": "47ec8edd",
   "metadata": {},
   "outputs": [
    {
     "name": "stdout",
     "output_type": "stream",
     "text": [
      "정수를 입력하세요: 100\n",
      "양수입니다.\n"
     ]
    }
   ],
   "source": [
    "num = int(input(\"정수를 입력하세요: \"))\n",
    "\n",
    "if num < 0:\n",
    "    print(\"음수입니다.\")\n",
    "elif num == 0:\n",
    "    print(\"0입니다.\")\n",
    "else:\n",
    "    print(\"양수입니다.\")"
   ]
  },
  {
   "cell_type": "code",
   "execution_count": null,
   "id": "03c4cc38",
   "metadata": {},
   "outputs": [],
   "source": []
  }
 ],
 "metadata": {
  "kernelspec": {
   "display_name": "Python 3 (ipykernel)",
   "language": "python",
   "name": "python3"
  },
  "language_info": {
   "codemirror_mode": {
    "name": "ipython",
    "version": 3
   },
   "file_extension": ".py",
   "mimetype": "text/x-python",
   "name": "python",
   "nbconvert_exporter": "python",
   "pygments_lexer": "ipython3",
   "version": "3.9.16"
  }
 },
 "nbformat": 4,
 "nbformat_minor": 5
}
