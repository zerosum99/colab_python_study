{
 "cells": [
  {
   "cell_type": "code",
   "execution_count": null,
   "id": "cf2d14c0",
   "metadata": {},
   "outputs": [],
   "source": []
  },
  {
   "cell_type": "markdown",
   "id": "990ad1a8",
   "metadata": {},
   "source": [
    "# 4. 연산자 함수/ 내장함수 알아보기"
   ]
  },
  {
   "cell_type": "markdown",
   "id": "b87439d2",
   "metadata": {},
   "source": [
    "## 4-1 기본 내장함수"
   ]
  },
  {
   "cell_type": "markdown",
   "id": "244c7d28",
   "metadata": {},
   "source": [
    "### 길이를 확인하는 함수 len"
   ]
  },
  {
   "cell_type": "code",
   "execution_count": 1,
   "id": "6a47a541",
   "metadata": {},
   "outputs": [
    {
     "name": "stdout",
     "output_type": "stream",
     "text": [
      "5\n",
      "13\n"
     ]
    }
   ],
   "source": [
    "my_list = [1, 2, 3, 4, 5]\n",
    "print(len(my_list)) # 출력결과: 5\n",
    "\n",
    "my_string = \"Hello, world!\"\n",
    "print(len(my_string)) # 출력결과: 13"
   ]
  },
  {
   "cell_type": "markdown",
   "id": "04b23b9e",
   "metadata": {},
   "source": [
    "### 정수의 범위를 표시하는 range "
   ]
  },
  {
   "cell_type": "code",
   "execution_count": 3,
   "id": "da5ef1bf",
   "metadata": {},
   "outputs": [
    {
     "name": "stdout",
     "output_type": "stream",
     "text": [
      "0\n",
      "1\n",
      "2\n",
      "3\n",
      "4\n",
      "[1, 3, 5, 7, 9]\n"
     ]
    }
   ],
   "source": [
    "for i in range(5):\n",
    "    print(i) # 출력결과: 0 1 2 3 4\n",
    "\n",
    "my_range = range(1, 10, 2)\n",
    "print(list(my_range)) # 출력결과: [1, 3, 5, 7, 9]"
   ]
  },
  {
   "cell_type": "markdown",
   "id": "97310881",
   "metadata": {},
   "source": [
    "### 리스트의 원소가 숫자일 경우 합계를 계산 sum"
   ]
  },
  {
   "cell_type": "code",
   "execution_count": 4,
   "id": "7f5441ff",
   "metadata": {},
   "outputs": [
    {
     "name": "stdout",
     "output_type": "stream",
     "text": [
      "15\n"
     ]
    }
   ],
   "source": [
    "my_list = [1, 2, 3, 4, 5]\n",
    "print(sum(my_list)) # 출력결과: 15"
   ]
  },
  {
   "cell_type": "code",
   "execution_count": null,
   "id": "5e939521",
   "metadata": {},
   "outputs": [],
   "source": []
  },
  {
   "cell_type": "markdown",
   "id": "9957aaef",
   "metadata": {},
   "source": [
    "## 타입을 변환하기 \n",
    "- int(), float(), str() 함수: 인자로 전달된 값을 각각 정수, 실수, 문자열 자료형으로 변환합니다."
   ]
  },
  {
   "cell_type": "code",
   "execution_count": 20,
   "id": "523141ba",
   "metadata": {},
   "outputs": [],
   "source": [
    "a = str(100)\n",
    "b = int(a)"
   ]
  },
  {
   "cell_type": "code",
   "execution_count": 21,
   "id": "7f84e4fd",
   "metadata": {},
   "outputs": [
    {
     "data": {
      "text/plain": [
       "('100', 100)"
      ]
     },
     "execution_count": 21,
     "metadata": {},
     "output_type": "execute_result"
    }
   ],
   "source": [
    "a,b"
   ]
  },
  {
   "cell_type": "markdown",
   "id": "dd3b6e17",
   "metadata": {},
   "source": [
    "## 두 개의 리스트를 순서쌍으로 연결하기"
   ]
  },
  {
   "cell_type": "code",
   "execution_count": 22,
   "id": "71548556",
   "metadata": {},
   "outputs": [],
   "source": [
    "k = [1,2,3,4]\n",
    "v = list('abce')"
   ]
  },
  {
   "cell_type": "code",
   "execution_count": 23,
   "id": "181584e3",
   "metadata": {},
   "outputs": [],
   "source": [
    "kv = zip(k,v)"
   ]
  },
  {
   "cell_type": "code",
   "execution_count": 25,
   "id": "66a515d2",
   "metadata": {},
   "outputs": [
    {
     "data": {
      "text/plain": [
       "[(1, 'a'), (2, 'b'), (3, 'c'), (4, 'e')]"
      ]
     },
     "execution_count": 25,
     "metadata": {},
     "output_type": "execute_result"
    }
   ],
   "source": [
    "[*kv]"
   ]
  },
  {
   "cell_type": "code",
   "execution_count": 27,
   "id": "428e1422",
   "metadata": {},
   "outputs": [
    {
     "data": {
      "text/plain": [
       "{1: 'a', 2: 'b', 3: 'c', 4: 'e'}"
      ]
     },
     "execution_count": 27,
     "metadata": {},
     "output_type": "execute_result"
    }
   ],
   "source": [
    "dict(zip(k,v))"
   ]
  },
  {
   "cell_type": "code",
   "execution_count": null,
   "id": "4fccf86e",
   "metadata": {},
   "outputs": [],
   "source": []
  },
  {
   "cell_type": "markdown",
   "id": "0802ff3e",
   "metadata": {},
   "source": [
    "## 인덱스와 값을 출력하기 "
   ]
  },
  {
   "cell_type": "code",
   "execution_count": 29,
   "id": "56dea996",
   "metadata": {},
   "outputs": [
    {
     "name": "stdout",
     "output_type": "stream",
     "text": [
      "0 1\n",
      "1 2\n",
      "2 3\n",
      "3 4\n"
     ]
    }
   ],
   "source": [
    "for i,v in enumerate(k) :\n",
    "    print(i,v)"
   ]
  },
  {
   "cell_type": "markdown",
   "id": "fdc3f58f",
   "metadata": {},
   "source": [
    "## 정렬처리 하기 "
   ]
  },
  {
   "cell_type": "code",
   "execution_count": 30,
   "id": "efaa4720",
   "metadata": {},
   "outputs": [],
   "source": [
    "ss = list('hello world')"
   ]
  },
  {
   "cell_type": "code",
   "execution_count": 31,
   "id": "e8db2e50",
   "metadata": {},
   "outputs": [
    {
     "data": {
      "text/plain": [
       "[' ', 'd', 'e', 'h', 'l', 'l', 'l', 'o', 'o', 'r', 'w']"
      ]
     },
     "execution_count": 31,
     "metadata": {},
     "output_type": "execute_result"
    }
   ],
   "source": [
    "sorted(ss)"
   ]
  },
  {
   "cell_type": "code",
   "execution_count": 34,
   "id": "53bf29fe",
   "metadata": {},
   "outputs": [
    {
     "data": {
      "text/plain": [
       "['w', 'r', 'o', 'o', 'l', 'l', 'l', 'h', 'e', 'd', ' ']"
      ]
     },
     "execution_count": 34,
     "metadata": {},
     "output_type": "execute_result"
    }
   ],
   "source": [
    "[*reversed(sorted(ss))]"
   ]
  },
  {
   "cell_type": "code",
   "execution_count": null,
   "id": "d0329778",
   "metadata": {},
   "outputs": [],
   "source": []
  },
  {
   "cell_type": "code",
   "execution_count": null,
   "id": "89c91c4f",
   "metadata": {},
   "outputs": [],
   "source": []
  },
  {
   "cell_type": "markdown",
   "id": "c0001274",
   "metadata": {},
   "source": [
    "## 4-2 데이터 접근 내장함수"
   ]
  },
  {
   "cell_type": "code",
   "execution_count": 16,
   "id": "265faa8d",
   "metadata": {},
   "outputs": [],
   "source": [
    "class Car:\n",
    "    def __init__(self, make, model, year):\n",
    "        self.make = make\n",
    "        self.model = model\n",
    "        self.year = year"
   ]
  },
  {
   "cell_type": "code",
   "execution_count": 17,
   "id": "eb2327d3",
   "metadata": {},
   "outputs": [],
   "source": [
    "car = Car(\"Hyundai\", \"Sonata\", 2022)"
   ]
  },
  {
   "cell_type": "markdown",
   "id": "5688ab1d",
   "metadata": {},
   "source": [
    "## 4-2-1 getattr/ hasattr"
   ]
  },
  {
   "cell_type": "code",
   "execution_count": 13,
   "id": "cfa0ad9b",
   "metadata": {},
   "outputs": [
    {
     "name": "stdout",
     "output_type": "stream",
     "text": [
      "Hyundai\n",
      "Sonata\n",
      "2022\n"
     ]
    }
   ],
   "source": [
    "# make 속성 값 가져오기\n",
    "make = getattr(car, \"make\")\n",
    "\n",
    "# model 속성 값 가져오기\n",
    "model = getattr(car, \"model\")\n",
    "\n",
    "# year 속성 값 가져오기\n",
    "year = getattr(car, \"year\")\n",
    "\n",
    "# 결과 출력\n",
    "print(make)  # Hyundai\n",
    "print(model)  # Sonata\n",
    "print(year)  # 2022"
   ]
  },
  {
   "cell_type": "markdown",
   "id": "11352698",
   "metadata": {},
   "source": [
    "### 특정 속성이 있는지를 확인하기"
   ]
  },
  {
   "cell_type": "code",
   "execution_count": 15,
   "id": "e05f9af7",
   "metadata": {},
   "outputs": [
    {
     "name": "stdout",
     "output_type": "stream",
     "text": [
      "car 객체는 make 속성을 가지고 있습니다.\n",
      "car 객체는 color 속성을 가지고 있지 않습니다.\n"
     ]
    }
   ],
   "source": [
    "# make 속성이 있는지 확인\n",
    "if hasattr(car, \"make\"):\n",
    "    print(\"car 객체는 make 속성을 가지고 있습니다.\")\n",
    "else:\n",
    "    print(\"car 객체는 make 속성을 가지고 있지 않습니다.\")\n",
    "\n",
    "# color 속성이 있는지 확인\n",
    "if hasattr(car, \"color\"):\n",
    "    print(\"car 객체는 color 속성을 가지고 있습니다.\")\n",
    "else:\n",
    "    print(\"car 객체는 color 속성을 가지고 있지 않습니다.\")"
   ]
  },
  {
   "cell_type": "markdown",
   "id": "41dbfd0b",
   "metadata": {},
   "source": [
    "## 4-2-2 setattr"
   ]
  },
  {
   "cell_type": "code",
   "execution_count": 14,
   "id": "3647b05b",
   "metadata": {},
   "outputs": [
    {
     "name": "stdout",
     "output_type": "stream",
     "text": [
      "Hyundai\n",
      "Sonata\n",
      "2023\n",
      "30000\n"
     ]
    }
   ],
   "source": [
    "# year 속성 값을 2023으로 변경\n",
    "setattr(car, \"year\", 2023)\n",
    "\n",
    "# price 속성 추가 및 값 설정\n",
    "setattr(car, \"price\", 30000)\n",
    "\n",
    "# 결과 출력\n",
    "print(car.make)  # Hyundai\n",
    "print(car.model)  # Sonata\n",
    "print(car.year)  # 2023\n",
    "print(car.price)  # 30000"
   ]
  },
  {
   "cell_type": "code",
   "execution_count": null,
   "id": "f07313aa",
   "metadata": {},
   "outputs": [],
   "source": []
  },
  {
   "cell_type": "code",
   "execution_count": null,
   "id": "76e6ef1a",
   "metadata": {},
   "outputs": [],
   "source": []
  },
  {
   "cell_type": "markdown",
   "id": "3e68bab8",
   "metadata": {},
   "source": [
    "## 4-3 map /filter /reduce"
   ]
  },
  {
   "cell_type": "markdown",
   "id": "bfc02ff6",
   "metadata": {},
   "source": [
    "## 4-3-1 map\n",
    "\n",
    "- 모든 원서를 전부 함수로 변환처리"
   ]
  },
  {
   "cell_type": "code",
   "execution_count": 4,
   "id": "58225f0d",
   "metadata": {},
   "outputs": [
    {
     "name": "stdout",
     "output_type": "stream",
     "text": [
      "[1, 4, 9, 16, 25]\n"
     ]
    }
   ],
   "source": [
    "numbers = [1, 2, 3, 4, 5]\n",
    "\n",
    "# 제곱 함수\n",
    "def square(x):\n",
    "    return x ** 2\n",
    "\n",
    "# map 함수를 이용하여 리스트의 모든 요소에 대해 제곱을 구함\n",
    "squared_numbers = map(square, numbers)\n",
    "\n",
    "# 결과 출력\n",
    "print(list(squared_numbers)) # [1, 4, 9, 16, 25]"
   ]
  },
  {
   "cell_type": "markdown",
   "id": "5dea4fe1",
   "metadata": {},
   "source": [
    "### 익명함수로 처리 "
   ]
  },
  {
   "cell_type": "code",
   "execution_count": 5,
   "id": "a56dd55e",
   "metadata": {},
   "outputs": [
    {
     "name": "stdout",
     "output_type": "stream",
     "text": [
      "[1, 4, 9, 16, 25]\n"
     ]
    }
   ],
   "source": [
    "squared_numbers = map(lambda x : x**2 , numbers)\n",
    "\n",
    "# 결과 출력\n",
    "print(list(squared_numbers)) # [1, 4, 9, 16, 25]"
   ]
  },
  {
   "cell_type": "code",
   "execution_count": null,
   "id": "29fe0f9d",
   "metadata": {},
   "outputs": [],
   "source": []
  },
  {
   "cell_type": "markdown",
   "id": "4f95825f",
   "metadata": {},
   "source": [
    "### 4-3-2  filter\n",
    "\n",
    "- 모든 원소 중에 함수의 결과가 True 인 경우만 추출"
   ]
  },
  {
   "cell_type": "code",
   "execution_count": 6,
   "id": "8ec810db",
   "metadata": {},
   "outputs": [
    {
     "name": "stdout",
     "output_type": "stream",
     "text": [
      "[1, 3, 5]\n"
     ]
    }
   ],
   "source": [
    "numbers = [1, 2, 3, 4, 5]\n",
    "\n",
    "# 홀수 판별 함수\n",
    "def is_odd(x):\n",
    "    return x % 2 == 1\n",
    "\n",
    "# filter 함수를 이용하여 리스트에서 홀수만 추출\n",
    "odd_numbers = filter(is_odd, numbers)\n",
    "\n",
    "# 결과 출력\n",
    "print(list(odd_numbers)) # [1, 3, 5]"
   ]
  },
  {
   "cell_type": "markdown",
   "id": "9dc3117c",
   "metadata": {},
   "source": [
    "### 익명함수로 처리"
   ]
  },
  {
   "cell_type": "code",
   "execution_count": 7,
   "id": "1c2bac54",
   "metadata": {},
   "outputs": [
    {
     "name": "stdout",
     "output_type": "stream",
     "text": [
      "[1, 3, 5]\n"
     ]
    }
   ],
   "source": [
    "# filter 함수를 이용하여 리스트에서 홀수만 추출\n",
    "odd_numbers = filter(lambda x : x%2 ==1, numbers)\n",
    "\n",
    "# 결과 출력\n",
    "print(list(odd_numbers)) # [1, 3, 5]"
   ]
  },
  {
   "cell_type": "code",
   "execution_count": null,
   "id": "ae6ee90d",
   "metadata": {},
   "outputs": [],
   "source": []
  },
  {
   "cell_type": "markdown",
   "id": "06404dc7",
   "metadata": {},
   "source": [
    "### 4-3-3 reduce\n",
    "\n",
    "- 특정 함수를 계산해서 최종 결과을 보여줌 "
   ]
  },
  {
   "cell_type": "code",
   "execution_count": 8,
   "id": "6eccf369",
   "metadata": {},
   "outputs": [
    {
     "name": "stdout",
     "output_type": "stream",
     "text": [
      "15\n"
     ]
    }
   ],
   "source": [
    "from functools import reduce\n",
    "\n",
    "numbers = [1, 2, 3, 4, 5]\n",
    "\n",
    "# 덧셈 함수\n",
    "def add(x, y):\n",
    "    return x + y\n",
    "\n",
    "# reduce 함수를 이용하여 리스트의 모든 요소를 더함\n",
    "sum_of_numbers = reduce(add, numbers)\n",
    "\n",
    "# 결과 출력\n",
    "print(sum_of_numbers) # 15"
   ]
  },
  {
   "cell_type": "markdown",
   "id": "949e8cb8",
   "metadata": {},
   "source": [
    "### 익명함수로 처리 "
   ]
  },
  {
   "cell_type": "code",
   "execution_count": 10,
   "id": "75d7e371",
   "metadata": {},
   "outputs": [
    {
     "name": "stdout",
     "output_type": "stream",
     "text": [
      "15\n"
     ]
    }
   ],
   "source": [
    "# reduce 함수를 이용하여 리스트의 모든 요소를 더함\n",
    "sum_of_numbers = reduce(lambda x,y : x+y , numbers)\n",
    "\n",
    "# 결과 출력\n",
    "print(sum_of_numbers) # 15"
   ]
  },
  {
   "cell_type": "markdown",
   "id": "38257dbd",
   "metadata": {},
   "source": [
    "## 4-4 연산자 모듈 사용하기"
   ]
  },
  {
   "cell_type": "markdown",
   "id": "a1664ac0",
   "metadata": {},
   "source": [
    "##  다양한 연산자를 함수로 제공\n",
    "\n",
    "- 이를 확장해서 사용할 수 있도록 제공"
   ]
  },
  {
   "cell_type": "code",
   "execution_count": 2,
   "id": "f922e54f",
   "metadata": {},
   "outputs": [],
   "source": [
    "import operator as op"
   ]
  },
  {
   "cell_type": "markdown",
   "id": "da77d8d0",
   "metadata": {},
   "source": [
    "### 모듈에 대한 정보를 확인"
   ]
  },
  {
   "cell_type": "code",
   "execution_count": 12,
   "id": "9d77d36e",
   "metadata": {},
   "outputs": [
    {
     "name": "stdout",
     "output_type": "stream",
     "text": [
      "abs,add,and_,attrgetter,concat,contains,countOf,delitem,eq,floordiv,ge,getitem,gt,iadd,iand,iconcat,ifloordiv,ilshift,imatmul,imod,imul,index,indexOf,inv,invert,ior,ipow,irshift,is_,is_not,isub,itemgetter,itruediv,ixor,le,length_hint,lshift,lt,matmul,methodcaller,mod,mul,ne,neg,not_,or_,pos,pow,rshift,setitem,sub,truediv,truth,xor,"
     ]
    }
   ],
   "source": [
    "for i in dir(op) :\n",
    "    print(i, end=\",\") if not i.startswith(\"_\") else _"
   ]
  },
  {
   "cell_type": "markdown",
   "id": "17be99a5",
   "metadata": {},
   "source": [
    "### 덧셈연산을 한다"
   ]
  },
  {
   "cell_type": "code",
   "execution_count": 3,
   "id": "2ffd8871",
   "metadata": {},
   "outputs": [
    {
     "data": {
      "text/plain": [
       "300"
      ]
     },
     "execution_count": 3,
     "metadata": {},
     "output_type": "execute_result"
    }
   ],
   "source": [
    "op.add(100,200)"
   ]
  },
  {
   "cell_type": "code",
   "execution_count": 4,
   "id": "586e9722",
   "metadata": {},
   "outputs": [
    {
     "data": {
      "text/plain": [
       "'문자열더하기'"
      ]
     },
     "execution_count": 4,
     "metadata": {},
     "output_type": "execute_result"
    }
   ],
   "source": [
    "op.add(\"문자열\",\"더하기\")"
   ]
  },
  {
   "cell_type": "code",
   "execution_count": 13,
   "id": "9498f263",
   "metadata": {},
   "outputs": [
    {
     "data": {
      "text/plain": [
       "[1, 2, 3, 4, 5, 6, 7, 8]"
      ]
     },
     "execution_count": 13,
     "metadata": {},
     "output_type": "execute_result"
    }
   ],
   "source": [
    "op.add([1,2,3,4],[5,6,7,8])"
   ]
  },
  {
   "cell_type": "code",
   "execution_count": null,
   "id": "9c7e862c",
   "metadata": {},
   "outputs": [],
   "source": []
  },
  {
   "cell_type": "markdown",
   "id": "e1045457",
   "metadata": {},
   "source": [
    "### 넘파이 모듈에서 만든 배열에도 덧셈연산을 처리"
   ]
  },
  {
   "cell_type": "code",
   "execution_count": 5,
   "id": "236476f1",
   "metadata": {},
   "outputs": [],
   "source": [
    "import numpy as np"
   ]
  },
  {
   "cell_type": "code",
   "execution_count": 6,
   "id": "55bdb935",
   "metadata": {},
   "outputs": [],
   "source": [
    "a = np.array([1,2,3,])\n",
    "b = np.array([4,5,6])"
   ]
  },
  {
   "cell_type": "code",
   "execution_count": 7,
   "id": "2f7c272b",
   "metadata": {},
   "outputs": [
    {
     "data": {
      "text/plain": [
       "array([5, 7, 9])"
      ]
     },
     "execution_count": 7,
     "metadata": {},
     "output_type": "execute_result"
    }
   ],
   "source": [
    "op.add(a,b)"
   ]
  },
  {
   "cell_type": "code",
   "execution_count": 8,
   "id": "167706da",
   "metadata": {},
   "outputs": [
    {
     "data": {
      "text/plain": [
       "array([5, 7, 9])"
      ]
     },
     "execution_count": 8,
     "metadata": {},
     "output_type": "execute_result"
    }
   ],
   "source": [
    "a + b"
   ]
  },
  {
   "cell_type": "code",
   "execution_count": null,
   "id": "47ea5428",
   "metadata": {},
   "outputs": [],
   "source": []
  }
 ],
 "metadata": {
  "kernelspec": {
   "display_name": "Python 3 (ipykernel)",
   "language": "python",
   "name": "python3"
  },
  "language_info": {
   "codemirror_mode": {
    "name": "ipython",
    "version": 3
   },
   "file_extension": ".py",
   "mimetype": "text/x-python",
   "name": "python",
   "nbconvert_exporter": "python",
   "pygments_lexer": "ipython3",
   "version": "3.9.16"
  }
 },
 "nbformat": 4,
 "nbformat_minor": 5
}
